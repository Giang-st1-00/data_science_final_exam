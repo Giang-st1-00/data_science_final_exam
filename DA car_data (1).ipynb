{
 "cells": [
  {
   "cell_type": "markdown",
   "id": "a4762c20",
   "metadata": {
    "id": "a4762c20"
   },
   "source": [
    "# Real-world Data Wrangling\n",
    "### Fullname: Lê Trường Giang - 21IT543\n",
    "###                   Lê Thị Thư Trang - 21IT672\n",
    "###                   Nguyễn Thị Xuân Mai - 21IT563\n",
    "### Class: 21JIT"
   ]
  },
  {
   "cell_type": "markdown",
   "id": "2808abaf",
   "metadata": {
    "id": "2808abaf"
   },
   "source": [
    "## 1. Gather data\n",
    "### **1.1.** Problem Statement\n",
    "\n",
    "This project aims to practice my skills of data wrangling using real-world datasets.\n",
    "\n",
    "Your statements here\n",
    "\n",
    "In this dataset, I would like to answer the following research questions:\n",
    "\n",
    "Question 1: Dealer sells the most cars.\n",
    "\n",
    "Question 2: The car color is most popular with men.\n",
    "\n",
    "Question 3: Company has the highest number of cars sold.\n",
    "\n",
    "Question 4: Between auto and manual cars, which car is more popular?\n",
    "\n",
    "Question 5: Average income of male and female customers.\n",
    "\n",
    "Question 6: Which car has the highest value sold?\n"
   ]
  },
  {
   "cell_type": "markdown",
   "id": "f45111f0",
   "metadata": {
    "id": "f45111f0"
   },
   "source": [
    "### **1.2.** Gather at least two datasets using two different data gathering methods\n",
    "\n",
    "Gather each of the 2 pieces of data from different sources:"
   ]
  },
  {
   "cell_type": "code",
   "execution_count": 81,
   "id": "7b5c9f0b",
   "metadata": {
    "executionInfo": {
     "elapsed": 1979,
     "status": "ok",
     "timestamp": 1716342303374,
     "user": {
      "displayName": "LE TRUONG GIANG",
      "userId": "14346943126947805766"
     },
     "user_tz": -420
    },
    "id": "7b5c9f0b"
   },
   "outputs": [],
   "source": [
    "#Lê Thị Thư Trang\n",
    "# import libraries:\n",
    "import pandas as pd\n",
    "import seaborn as sns\n",
    "import matplotlib.pyplot as plt"
   ]
  },
  {
   "cell_type": "code",
   "execution_count": 82,
   "id": "ff2ee768",
   "metadata": {
    "colab": {
     "base_uri": "https://localhost:8080/",
     "height": 339
    },
    "executionInfo": {
     "elapsed": 584,
     "status": "error",
     "timestamp": 1716342918656,
     "user": {
      "displayName": "LE TRUONG GIANG",
      "userId": "14346943126947805766"
     },
     "user_tz": -420
    },
    "id": "ff2ee768",
    "outputId": "e5cb7d52-60d5-433f-c253-fde60198bcaa"
   },
   "outputs": [
    {
     "data": {
      "text/html": [
       "<div>\n",
       "<style scoped>\n",
       "    .dataframe tbody tr th:only-of-type {\n",
       "        vertical-align: middle;\n",
       "    }\n",
       "\n",
       "    .dataframe tbody tr th {\n",
       "        vertical-align: top;\n",
       "    }\n",
       "\n",
       "    .dataframe thead th {\n",
       "        text-align: right;\n",
       "    }\n",
       "</style>\n",
       "<table border=\"1\" class=\"dataframe\">\n",
       "  <thead>\n",
       "    <tr style=\"text-align: right;\">\n",
       "      <th></th>\n",
       "      <th>Car_id</th>\n",
       "      <th>Date</th>\n",
       "      <th>Customer Name</th>\n",
       "      <th>Gender</th>\n",
       "      <th>Annual Income</th>\n",
       "      <th>Company</th>\n",
       "      <th>Model</th>\n",
       "      <th>Engine</th>\n",
       "      <th>Transmission</th>\n",
       "      <th>Color</th>\n",
       "      <th>Price ($)</th>\n",
       "      <th>Body Style</th>\n",
       "      <th>Phone</th>\n",
       "    </tr>\n",
       "  </thead>\n",
       "  <tbody>\n",
       "    <tr>\n",
       "      <th>0</th>\n",
       "      <td>C_CND_000001</td>\n",
       "      <td>1/2/2022</td>\n",
       "      <td>Geraldine</td>\n",
       "      <td>Male</td>\n",
       "      <td>13500</td>\n",
       "      <td>Ford</td>\n",
       "      <td>Expedition</td>\n",
       "      <td>DoubleÂ Overhead Camshaft</td>\n",
       "      <td>Auto</td>\n",
       "      <td>Black</td>\n",
       "      <td>26000.0</td>\n",
       "      <td>SUV</td>\n",
       "      <td>8264678</td>\n",
       "    </tr>\n",
       "    <tr>\n",
       "      <th>1</th>\n",
       "      <td>C_CND_000002</td>\n",
       "      <td>1/2/2022</td>\n",
       "      <td>Gia</td>\n",
       "      <td>Male</td>\n",
       "      <td>1480000</td>\n",
       "      <td>Dodge</td>\n",
       "      <td>Durango</td>\n",
       "      <td>DoubleÂ Overhead Camshaft</td>\n",
       "      <td>Auto</td>\n",
       "      <td>Black</td>\n",
       "      <td>19000.0</td>\n",
       "      <td>SUV</td>\n",
       "      <td>6848189</td>\n",
       "    </tr>\n",
       "    <tr>\n",
       "      <th>2</th>\n",
       "      <td>C_CND_000003</td>\n",
       "      <td>1/2/2022</td>\n",
       "      <td>Gianna</td>\n",
       "      <td>Male</td>\n",
       "      <td>1035000</td>\n",
       "      <td>Cadillac</td>\n",
       "      <td>Eldorado</td>\n",
       "      <td>Overhead Camshaft</td>\n",
       "      <td>Manual</td>\n",
       "      <td>Red</td>\n",
       "      <td>NaN</td>\n",
       "      <td>Passenger</td>\n",
       "      <td>7298798</td>\n",
       "    </tr>\n",
       "    <tr>\n",
       "      <th>3</th>\n",
       "      <td>C_CND_000004</td>\n",
       "      <td>1/2/2022</td>\n",
       "      <td>Giselle</td>\n",
       "      <td>Male</td>\n",
       "      <td>13500</td>\n",
       "      <td>Toyota</td>\n",
       "      <td>Celica</td>\n",
       "      <td>Overhead Camshaft</td>\n",
       "      <td>Manual</td>\n",
       "      <td>Pale White</td>\n",
       "      <td>14000.0</td>\n",
       "      <td>SUV</td>\n",
       "      <td>6257557</td>\n",
       "    </tr>\n",
       "    <tr>\n",
       "      <th>4</th>\n",
       "      <td>C_CND_000005</td>\n",
       "      <td>1/2/2022</td>\n",
       "      <td>Grace</td>\n",
       "      <td>Male</td>\n",
       "      <td>1465000</td>\n",
       "      <td>Acura</td>\n",
       "      <td>TL</td>\n",
       "      <td>DoubleÂ Overhead Camshaft</td>\n",
       "      <td>Auto</td>\n",
       "      <td>Red</td>\n",
       "      <td>24500.0</td>\n",
       "      <td>Hatchback</td>\n",
       "      <td>7081483</td>\n",
       "    </tr>\n",
       "    <tr>\n",
       "      <th>...</th>\n",
       "      <td>...</td>\n",
       "      <td>...</td>\n",
       "      <td>...</td>\n",
       "      <td>...</td>\n",
       "      <td>...</td>\n",
       "      <td>...</td>\n",
       "      <td>...</td>\n",
       "      <td>...</td>\n",
       "      <td>...</td>\n",
       "      <td>...</td>\n",
       "      <td>...</td>\n",
       "      <td>...</td>\n",
       "      <td>...</td>\n",
       "    </tr>\n",
       "    <tr>\n",
       "      <th>4997</th>\n",
       "      <td>C_CND_004998</td>\n",
       "      <td>8/28/2022</td>\n",
       "      <td>Elina</td>\n",
       "      <td>Male</td>\n",
       "      <td>1500000</td>\n",
       "      <td>Saturn</td>\n",
       "      <td>LS</td>\n",
       "      <td>DoubleÂ Overhead Camshaft</td>\n",
       "      <td>Auto</td>\n",
       "      <td>Red</td>\n",
       "      <td>24000.0</td>\n",
       "      <td>Sedan</td>\n",
       "      <td>7050688</td>\n",
       "    </tr>\n",
       "    <tr>\n",
       "      <th>4998</th>\n",
       "      <td>C_CND_004999</td>\n",
       "      <td>8/28/2022</td>\n",
       "      <td>Elizabeth</td>\n",
       "      <td>Male</td>\n",
       "      <td>1850000</td>\n",
       "      <td>Pontiac</td>\n",
       "      <td>Grand Am</td>\n",
       "      <td>DoubleÂ Overhead Camshaft</td>\n",
       "      <td>Auto</td>\n",
       "      <td>Pale White</td>\n",
       "      <td>12000.0</td>\n",
       "      <td>SUV</td>\n",
       "      <td>6236154</td>\n",
       "    </tr>\n",
       "    <tr>\n",
       "      <th>4999</th>\n",
       "      <td>C_CND_004997</td>\n",
       "      <td>8/28/2022</td>\n",
       "      <td>Elena</td>\n",
       "      <td>Female</td>\n",
       "      <td>3900000</td>\n",
       "      <td>Jeep</td>\n",
       "      <td>Wrangler</td>\n",
       "      <td>Overhead Camshaft</td>\n",
       "      <td>Manual</td>\n",
       "      <td>Pale White</td>\n",
       "      <td>NaN</td>\n",
       "      <td>Hatchback</td>\n",
       "      <td>7664667</td>\n",
       "    </tr>\n",
       "    <tr>\n",
       "      <th>5000</th>\n",
       "      <td>C_CND_004998</td>\n",
       "      <td>8/28/2022</td>\n",
       "      <td>Elina</td>\n",
       "      <td>Male</td>\n",
       "      <td>1500000</td>\n",
       "      <td>Saturn</td>\n",
       "      <td>LS</td>\n",
       "      <td>DoubleÂ Overhead Camshaft</td>\n",
       "      <td>Auto</td>\n",
       "      <td>Red</td>\n",
       "      <td>24000.0</td>\n",
       "      <td>Sedan</td>\n",
       "      <td>7050688</td>\n",
       "    </tr>\n",
       "    <tr>\n",
       "      <th>5001</th>\n",
       "      <td>C_CND_004999</td>\n",
       "      <td>8/28/2022</td>\n",
       "      <td>Elizabeth</td>\n",
       "      <td>Male</td>\n",
       "      <td>1850000</td>\n",
       "      <td>Pontiac</td>\n",
       "      <td>Grand Am</td>\n",
       "      <td>DoubleÂ Overhead Camshaft</td>\n",
       "      <td>Auto</td>\n",
       "      <td>Pale White</td>\n",
       "      <td>12000.0</td>\n",
       "      <td>SUV</td>\n",
       "      <td>6236154</td>\n",
       "    </tr>\n",
       "  </tbody>\n",
       "</table>\n",
       "<p>5002 rows × 13 columns</p>\n",
       "</div>"
      ],
      "text/plain": [
       "            Car_id       Date Customer Name  Gender  Annual Income   Company  \\\n",
       "0     C_CND_000001   1/2/2022     Geraldine    Male          13500      Ford   \n",
       "1     C_CND_000002   1/2/2022           Gia    Male        1480000     Dodge   \n",
       "2     C_CND_000003   1/2/2022        Gianna    Male        1035000  Cadillac   \n",
       "3     C_CND_000004   1/2/2022       Giselle    Male          13500    Toyota   \n",
       "4     C_CND_000005   1/2/2022         Grace    Male        1465000     Acura   \n",
       "...            ...        ...           ...     ...            ...       ...   \n",
       "4997  C_CND_004998  8/28/2022         Elina    Male        1500000    Saturn   \n",
       "4998  C_CND_004999  8/28/2022     Elizabeth    Male        1850000   Pontiac   \n",
       "4999  C_CND_004997  8/28/2022         Elena  Female        3900000      Jeep   \n",
       "5000  C_CND_004998  8/28/2022         Elina    Male        1500000    Saturn   \n",
       "5001  C_CND_004999  8/28/2022     Elizabeth    Male        1850000   Pontiac   \n",
       "\n",
       "           Model                     Engine Transmission       Color  \\\n",
       "0     Expedition  DoubleÂ Overhead Camshaft         Auto       Black   \n",
       "1        Durango  DoubleÂ Overhead Camshaft         Auto       Black   \n",
       "2       Eldorado          Overhead Camshaft       Manual         Red   \n",
       "3         Celica          Overhead Camshaft       Manual  Pale White   \n",
       "4             TL  DoubleÂ Overhead Camshaft         Auto         Red   \n",
       "...          ...                        ...          ...         ...   \n",
       "4997          LS  DoubleÂ Overhead Camshaft         Auto         Red   \n",
       "4998    Grand Am  DoubleÂ Overhead Camshaft         Auto  Pale White   \n",
       "4999    Wrangler          Overhead Camshaft       Manual  Pale White   \n",
       "5000          LS  DoubleÂ Overhead Camshaft         Auto         Red   \n",
       "5001    Grand Am  DoubleÂ Overhead Camshaft         Auto  Pale White   \n",
       "\n",
       "      Price ($) Body Style    Phone  \n",
       "0       26000.0        SUV  8264678  \n",
       "1       19000.0        SUV  6848189  \n",
       "2           NaN  Passenger  7298798  \n",
       "3       14000.0        SUV  6257557  \n",
       "4       24500.0  Hatchback  7081483  \n",
       "...         ...        ...      ...  \n",
       "4997    24000.0      Sedan  7050688  \n",
       "4998    12000.0        SUV  6236154  \n",
       "4999        NaN  Hatchback  7664667  \n",
       "5000    24000.0      Sedan  7050688  \n",
       "5001    12000.0        SUV  6236154  \n",
       "\n",
       "[5002 rows x 13 columns]"
      ]
     },
     "execution_count": 82,
     "metadata": {},
     "output_type": "execute_result"
    }
   ],
   "source": [
    "#FILL IN 1st data gathering and loading method\n",
    "df1 = pd.read_csv(\"Car-Sales.csv\")\n",
    "df1"
   ]
  },
  {
   "cell_type": "code",
   "execution_count": 83,
   "id": "6490d189",
   "metadata": {
    "id": "6490d189",
    "outputId": "d99fa79b-440c-4e09-a152-042bf2e1707c"
   },
   "outputs": [
    {
     "data": {
      "text/html": [
       "<div>\n",
       "<style scoped>\n",
       "    .dataframe tbody tr th:only-of-type {\n",
       "        vertical-align: middle;\n",
       "    }\n",
       "\n",
       "    .dataframe tbody tr th {\n",
       "        vertical-align: top;\n",
       "    }\n",
       "\n",
       "    .dataframe thead th {\n",
       "        text-align: right;\n",
       "    }\n",
       "</style>\n",
       "<table border=\"1\" class=\"dataframe\">\n",
       "  <thead>\n",
       "    <tr style=\"text-align: right;\">\n",
       "      <th></th>\n",
       "      <th>Car_id</th>\n",
       "      <th>Dealer_Name</th>\n",
       "      <th>Dealer_No</th>\n",
       "      <th>Dealer_Region</th>\n",
       "    </tr>\n",
       "  </thead>\n",
       "  <tbody>\n",
       "    <tr>\n",
       "      <th>0</th>\n",
       "      <td>C_CND_000001</td>\n",
       "      <td>Buddy Storbeck's Diesel Service Inc</td>\n",
       "      <td>06457-3834</td>\n",
       "      <td>Middletown</td>\n",
       "    </tr>\n",
       "    <tr>\n",
       "      <th>1</th>\n",
       "      <td>C_CND_000002</td>\n",
       "      <td>C &amp; M Motors Inc</td>\n",
       "      <td>60504-7114</td>\n",
       "      <td>Aurora</td>\n",
       "    </tr>\n",
       "    <tr>\n",
       "      <th>2</th>\n",
       "      <td>C_CND_000003</td>\n",
       "      <td>Capitol KIA</td>\n",
       "      <td>38701-8047</td>\n",
       "      <td>Greenville</td>\n",
       "    </tr>\n",
       "    <tr>\n",
       "      <th>3</th>\n",
       "      <td>C_CND_000004</td>\n",
       "      <td>Chrysler of Tri-Cities</td>\n",
       "      <td>99301-3882</td>\n",
       "      <td>Pasco</td>\n",
       "    </tr>\n",
       "    <tr>\n",
       "      <th>4</th>\n",
       "      <td>C_CND_000005</td>\n",
       "      <td>Chrysler Plymouth</td>\n",
       "      <td>53546-9427</td>\n",
       "      <td>Janesville</td>\n",
       "    </tr>\n",
       "    <tr>\n",
       "      <th>...</th>\n",
       "      <td>...</td>\n",
       "      <td>...</td>\n",
       "      <td>...</td>\n",
       "      <td>...</td>\n",
       "    </tr>\n",
       "    <tr>\n",
       "      <th>4997</th>\n",
       "      <td>C_CND_004998</td>\n",
       "      <td>Scrivener Performance Engineering</td>\n",
       "      <td>38701-8047</td>\n",
       "      <td>Greenville</td>\n",
       "    </tr>\n",
       "    <tr>\n",
       "      <th>4998</th>\n",
       "      <td>C_CND_004999</td>\n",
       "      <td>Star Enterprises Inc</td>\n",
       "      <td>99301-3882</td>\n",
       "      <td>Pasco</td>\n",
       "    </tr>\n",
       "    <tr>\n",
       "      <th>4999</th>\n",
       "      <td>C_CND_004997</td>\n",
       "      <td>Saab-Belle Dodge</td>\n",
       "      <td>60504-7114</td>\n",
       "      <td>Aurora</td>\n",
       "    </tr>\n",
       "    <tr>\n",
       "      <th>5000</th>\n",
       "      <td>C_CND_004998</td>\n",
       "      <td>Scrivener Performance Engineering</td>\n",
       "      <td>38701-8047</td>\n",
       "      <td>Greenville</td>\n",
       "    </tr>\n",
       "    <tr>\n",
       "      <th>5001</th>\n",
       "      <td>C_CND_004999</td>\n",
       "      <td>Star Enterprises Inc</td>\n",
       "      <td>99301-3882</td>\n",
       "      <td>Pasco</td>\n",
       "    </tr>\n",
       "  </tbody>\n",
       "</table>\n",
       "<p>5002 rows × 4 columns</p>\n",
       "</div>"
      ],
      "text/plain": [
       "            Car_id                          Dealer_Name  Dealer_No   \\\n",
       "0     C_CND_000001  Buddy Storbeck's Diesel Service Inc  06457-3834   \n",
       "1     C_CND_000002                     C & M Motors Inc  60504-7114   \n",
       "2     C_CND_000003                          Capitol KIA  38701-8047   \n",
       "3     C_CND_000004               Chrysler of Tri-Cities  99301-3882   \n",
       "4     C_CND_000005                    Chrysler Plymouth  53546-9427   \n",
       "...            ...                                  ...         ...   \n",
       "4997  C_CND_004998    Scrivener Performance Engineering  38701-8047   \n",
       "4998  C_CND_004999                 Star Enterprises Inc  99301-3882   \n",
       "4999  C_CND_004997                     Saab-Belle Dodge  60504-7114   \n",
       "5000  C_CND_004998    Scrivener Performance Engineering  38701-8047   \n",
       "5001  C_CND_004999                 Star Enterprises Inc  99301-3882   \n",
       "\n",
       "     Dealer_Region  \n",
       "0       Middletown  \n",
       "1           Aurora  \n",
       "2       Greenville  \n",
       "3            Pasco  \n",
       "4       Janesville  \n",
       "...            ...  \n",
       "4997    Greenville  \n",
       "4998         Pasco  \n",
       "4999        Aurora  \n",
       "5000    Greenville  \n",
       "5001         Pasco  \n",
       "\n",
       "[5002 rows x 4 columns]"
      ]
     },
     "execution_count": 83,
     "metadata": {},
     "output_type": "execute_result"
    }
   ],
   "source": [
    "#FILL IN 2nd data gathering and loading method\n",
    "df2 = pd.read_csv(\"dealer.csv\")\n",
    "df2"
   ]
  },
  {
   "cell_type": "markdown",
   "id": "e36e250e",
   "metadata": {
    "id": "e36e250e"
   },
   "source": [
    "## 2. Assess data\n",
    "\n",
    "I will assess the data both visually and programmatically to identify any data quality(content) issues and tidiness(structual) issues."
   ]
  },
  {
   "cell_type": "code",
   "execution_count": 84,
   "id": "592fd1a5",
   "metadata": {
    "id": "592fd1a5",
    "outputId": "cb0a37a3-5b87-49ca-a35a-9dfcce63954c"
   },
   "outputs": [
    {
     "name": "stdout",
     "output_type": "stream",
     "text": [
      "<class 'pandas.core.frame.DataFrame'>\n",
      "RangeIndex: 5002 entries, 0 to 5001\n",
      "Data columns (total 13 columns):\n",
      " #   Column         Non-Null Count  Dtype  \n",
      "---  ------         --------------  -----  \n",
      " 0   Car_id         5002 non-null   object \n",
      " 1   Date           5002 non-null   object \n",
      " 2   Customer Name  5002 non-null   object \n",
      " 3   Gender         5002 non-null   object \n",
      " 4   Annual Income  5002 non-null   int64  \n",
      " 5   Company        5002 non-null   object \n",
      " 6   Model          5002 non-null   object \n",
      " 7   Engine         5002 non-null   object \n",
      " 8   Transmission   5002 non-null   object \n",
      " 9   Color          5002 non-null   object \n",
      " 10  Price ($)      4987 non-null   float64\n",
      " 11  Body Style     5002 non-null   object \n",
      " 12  Phone          5002 non-null   int64  \n",
      "dtypes: float64(1), int64(2), object(10)\n",
      "memory usage: 508.1+ KB\n"
     ]
    }
   ],
   "source": [
    "#FILL IN - Inspecting the dataframe programmatically\n",
    "df1.info()"
   ]
  },
  {
   "cell_type": "code",
   "execution_count": 85,
   "id": "50bf7e0f",
   "metadata": {
    "id": "50bf7e0f",
    "outputId": "85b40edd-a9a6-4c30-c8ff-e79579ca504f"
   },
   "outputs": [
    {
     "data": {
      "text/html": [
       "<div>\n",
       "<style scoped>\n",
       "    .dataframe tbody tr th:only-of-type {\n",
       "        vertical-align: middle;\n",
       "    }\n",
       "\n",
       "    .dataframe tbody tr th {\n",
       "        vertical-align: top;\n",
       "    }\n",
       "\n",
       "    .dataframe thead th {\n",
       "        text-align: right;\n",
       "    }\n",
       "</style>\n",
       "<table border=\"1\" class=\"dataframe\">\n",
       "  <thead>\n",
       "    <tr style=\"text-align: right;\">\n",
       "      <th></th>\n",
       "      <th>Company</th>\n",
       "      <th>Car_id</th>\n",
       "      <th>Price ($)</th>\n",
       "    </tr>\n",
       "  </thead>\n",
       "  <tbody>\n",
       "    <tr>\n",
       "      <th>0</th>\n",
       "      <td>Acura</td>\n",
       "      <td>153</td>\n",
       "      <td>25170.026144</td>\n",
       "    </tr>\n",
       "    <tr>\n",
       "      <th>1</th>\n",
       "      <td>Audi</td>\n",
       "      <td>93</td>\n",
       "      <td>23075.935484</td>\n",
       "    </tr>\n",
       "    <tr>\n",
       "      <th>2</th>\n",
       "      <td>BMW</td>\n",
       "      <td>173</td>\n",
       "      <td>25034.508671</td>\n",
       "    </tr>\n",
       "    <tr>\n",
       "      <th>3</th>\n",
       "      <td>Buick</td>\n",
       "      <td>81</td>\n",
       "      <td>31936.493827</td>\n",
       "    </tr>\n",
       "    <tr>\n",
       "      <th>4</th>\n",
       "      <td>Cadillac</td>\n",
       "      <td>124</td>\n",
       "      <td>41120.260163</td>\n",
       "    </tr>\n",
       "    <tr>\n",
       "      <th>5</th>\n",
       "      <td>Chevrolet</td>\n",
       "      <td>362</td>\n",
       "      <td>25983.428969</td>\n",
       "    </tr>\n",
       "    <tr>\n",
       "      <th>6</th>\n",
       "      <td>Chrysler</td>\n",
       "      <td>241</td>\n",
       "      <td>26094.053942</td>\n",
       "    </tr>\n",
       "    <tr>\n",
       "      <th>7</th>\n",
       "      <td>Dodge</td>\n",
       "      <td>303</td>\n",
       "      <td>26453.000000</td>\n",
       "    </tr>\n",
       "    <tr>\n",
       "      <th>8</th>\n",
       "      <td>Ford</td>\n",
       "      <td>337</td>\n",
       "      <td>29735.570149</td>\n",
       "    </tr>\n",
       "    <tr>\n",
       "      <th>9</th>\n",
       "      <td>Honda</td>\n",
       "      <td>162</td>\n",
       "      <td>29043.565217</td>\n",
       "    </tr>\n",
       "    <tr>\n",
       "      <th>10</th>\n",
       "      <td>Hyundai</td>\n",
       "      <td>58</td>\n",
       "      <td>19739.706897</td>\n",
       "    </tr>\n",
       "    <tr>\n",
       "      <th>11</th>\n",
       "      <td>Infiniti</td>\n",
       "      <td>31</td>\n",
       "      <td>25974.387097</td>\n",
       "    </tr>\n",
       "    <tr>\n",
       "      <th>12</th>\n",
       "      <td>Jaguar</td>\n",
       "      <td>35</td>\n",
       "      <td>24800.114286</td>\n",
       "    </tr>\n",
       "    <tr>\n",
       "      <th>13</th>\n",
       "      <td>Jeep</td>\n",
       "      <td>65</td>\n",
       "      <td>21448.476190</td>\n",
       "    </tr>\n",
       "    <tr>\n",
       "      <th>14</th>\n",
       "      <td>Lexus</td>\n",
       "      <td>159</td>\n",
       "      <td>32705.512658</td>\n",
       "    </tr>\n",
       "    <tr>\n",
       "      <th>15</th>\n",
       "      <td>Lincoln</td>\n",
       "      <td>108</td>\n",
       "      <td>32839.916667</td>\n",
       "    </tr>\n",
       "    <tr>\n",
       "      <th>16</th>\n",
       "      <td>Mercedes-B</td>\n",
       "      <td>300</td>\n",
       "      <td>25262.760000</td>\n",
       "    </tr>\n",
       "    <tr>\n",
       "      <th>17</th>\n",
       "      <td>Mercury</td>\n",
       "      <td>202</td>\n",
       "      <td>29211.504950</td>\n",
       "    </tr>\n",
       "    <tr>\n",
       "      <th>18</th>\n",
       "      <td>Mitsubishi</td>\n",
       "      <td>294</td>\n",
       "      <td>26949.805461</td>\n",
       "    </tr>\n",
       "    <tr>\n",
       "      <th>19</th>\n",
       "      <td>Nissan</td>\n",
       "      <td>151</td>\n",
       "      <td>29134.781457</td>\n",
       "    </tr>\n",
       "    <tr>\n",
       "      <th>20</th>\n",
       "      <td>Oldsmobile</td>\n",
       "      <td>238</td>\n",
       "      <td>31337.927966</td>\n",
       "    </tr>\n",
       "    <tr>\n",
       "      <th>21</th>\n",
       "      <td>Plymouth</td>\n",
       "      <td>155</td>\n",
       "      <td>30535.916129</td>\n",
       "    </tr>\n",
       "    <tr>\n",
       "      <th>22</th>\n",
       "      <td>Pontiac</td>\n",
       "      <td>188</td>\n",
       "      <td>29597.593583</td>\n",
       "    </tr>\n",
       "    <tr>\n",
       "      <th>23</th>\n",
       "      <td>Porsche</td>\n",
       "      <td>86</td>\n",
       "      <td>23219.348837</td>\n",
       "    </tr>\n",
       "    <tr>\n",
       "      <th>24</th>\n",
       "      <td>Saab</td>\n",
       "      <td>41</td>\n",
       "      <td>40941.048780</td>\n",
       "    </tr>\n",
       "    <tr>\n",
       "      <th>25</th>\n",
       "      <td>Saturn</td>\n",
       "      <td>130</td>\n",
       "      <td>30623.192308</td>\n",
       "    </tr>\n",
       "    <tr>\n",
       "      <th>26</th>\n",
       "      <td>Subaru</td>\n",
       "      <td>76</td>\n",
       "      <td>29125.842105</td>\n",
       "    </tr>\n",
       "    <tr>\n",
       "      <th>27</th>\n",
       "      <td>Toyota</td>\n",
       "      <td>227</td>\n",
       "      <td>30334.039648</td>\n",
       "    </tr>\n",
       "    <tr>\n",
       "      <th>28</th>\n",
       "      <td>Volkswagen</td>\n",
       "      <td>266</td>\n",
       "      <td>25727.852830</td>\n",
       "    </tr>\n",
       "    <tr>\n",
       "      <th>29</th>\n",
       "      <td>Volvo</td>\n",
       "      <td>163</td>\n",
       "      <td>28852.276074</td>\n",
       "    </tr>\n",
       "  </tbody>\n",
       "</table>\n",
       "</div>"
      ],
      "text/plain": [
       "       Company  Car_id     Price ($)\n",
       "0        Acura     153  25170.026144\n",
       "1         Audi      93  23075.935484\n",
       "2          BMW     173  25034.508671\n",
       "3        Buick      81  31936.493827\n",
       "4     Cadillac     124  41120.260163\n",
       "5    Chevrolet     362  25983.428969\n",
       "6     Chrysler     241  26094.053942\n",
       "7        Dodge     303  26453.000000\n",
       "8         Ford     337  29735.570149\n",
       "9        Honda     162  29043.565217\n",
       "10     Hyundai      58  19739.706897\n",
       "11    Infiniti      31  25974.387097\n",
       "12      Jaguar      35  24800.114286\n",
       "13        Jeep      65  21448.476190\n",
       "14       Lexus     159  32705.512658\n",
       "15     Lincoln     108  32839.916667\n",
       "16  Mercedes-B     300  25262.760000\n",
       "17     Mercury     202  29211.504950\n",
       "18  Mitsubishi     294  26949.805461\n",
       "19      Nissan     151  29134.781457\n",
       "20  Oldsmobile     238  31337.927966\n",
       "21    Plymouth     155  30535.916129\n",
       "22     Pontiac     188  29597.593583\n",
       "23     Porsche      86  23219.348837\n",
       "24        Saab      41  40941.048780\n",
       "25      Saturn     130  30623.192308\n",
       "26      Subaru      76  29125.842105\n",
       "27      Toyota     227  30334.039648\n",
       "28  Volkswagen     266  25727.852830\n",
       "29       Volvo     163  28852.276074"
      ]
     },
     "execution_count": 85,
     "metadata": {},
     "output_type": "execute_result"
    }
   ],
   "source": [
    "df_company = df1.groupby('Company').agg({'Car_id':'count', 'Price ($)':'mean'}).reset_index()\n",
    "\n",
    "df_company"
   ]
  },
  {
   "cell_type": "code",
   "execution_count": 86,
   "id": "74e3c52f",
   "metadata": {
    "id": "74e3c52f",
    "outputId": "1ea019ce-6e3e-41a3-898a-c4d09e05f14b"
   },
   "outputs": [
    {
     "data": {
      "text/html": [
       "<div>\n",
       "<style scoped>\n",
       "    .dataframe tbody tr th:only-of-type {\n",
       "        vertical-align: middle;\n",
       "    }\n",
       "\n",
       "    .dataframe tbody tr th {\n",
       "        vertical-align: top;\n",
       "    }\n",
       "\n",
       "    .dataframe thead th {\n",
       "        text-align: right;\n",
       "    }\n",
       "</style>\n",
       "<table border=\"1\" class=\"dataframe\">\n",
       "  <thead>\n",
       "    <tr style=\"text-align: right;\">\n",
       "      <th></th>\n",
       "      <th>Car_id</th>\n",
       "      <th>Dealer_Name</th>\n",
       "      <th>Dealer_No</th>\n",
       "      <th>Dealer_Region</th>\n",
       "    </tr>\n",
       "  </thead>\n",
       "  <tbody>\n",
       "    <tr>\n",
       "      <th>0</th>\n",
       "      <td>C_CND_000001</td>\n",
       "      <td>Buddy Storbeck's Diesel Service Inc</td>\n",
       "      <td>06457-3834</td>\n",
       "      <td>Middletown</td>\n",
       "    </tr>\n",
       "    <tr>\n",
       "      <th>1</th>\n",
       "      <td>C_CND_000002</td>\n",
       "      <td>C &amp; M Motors Inc</td>\n",
       "      <td>60504-7114</td>\n",
       "      <td>Aurora</td>\n",
       "    </tr>\n",
       "    <tr>\n",
       "      <th>2</th>\n",
       "      <td>C_CND_000003</td>\n",
       "      <td>Capitol KIA</td>\n",
       "      <td>38701-8047</td>\n",
       "      <td>Greenville</td>\n",
       "    </tr>\n",
       "    <tr>\n",
       "      <th>3</th>\n",
       "      <td>C_CND_000004</td>\n",
       "      <td>Chrysler of Tri-Cities</td>\n",
       "      <td>99301-3882</td>\n",
       "      <td>Pasco</td>\n",
       "    </tr>\n",
       "    <tr>\n",
       "      <th>4</th>\n",
       "      <td>C_CND_000005</td>\n",
       "      <td>Chrysler Plymouth</td>\n",
       "      <td>53546-9427</td>\n",
       "      <td>Janesville</td>\n",
       "    </tr>\n",
       "  </tbody>\n",
       "</table>\n",
       "</div>"
      ],
      "text/plain": [
       "         Car_id                          Dealer_Name  Dealer_No  Dealer_Region\n",
       "0  C_CND_000001  Buddy Storbeck's Diesel Service Inc  06457-3834    Middletown\n",
       "1  C_CND_000002                     C & M Motors Inc  60504-7114        Aurora\n",
       "2  C_CND_000003                          Capitol KIA  38701-8047    Greenville\n",
       "3  C_CND_000004               Chrysler of Tri-Cities  99301-3882         Pasco\n",
       "4  C_CND_000005                    Chrysler Plymouth  53546-9427    Janesville"
      ]
     },
     "execution_count": 86,
     "metadata": {},
     "output_type": "execute_result"
    }
   ],
   "source": [
    "#FILL IN - Inspecting the dataframe visually\n",
    "df2.head()"
   ]
  },
  {
   "cell_type": "code",
   "execution_count": 87,
   "id": "b7ac761f",
   "metadata": {
    "id": "b7ac761f",
    "outputId": "8dcceea9-d115-42d9-b752-6c53ae92c2eb"
   },
   "outputs": [
    {
     "name": "stdout",
     "output_type": "stream",
     "text": [
      "<class 'pandas.core.frame.DataFrame'>\n",
      "RangeIndex: 5002 entries, 0 to 5001\n",
      "Data columns (total 4 columns):\n",
      " #   Column         Non-Null Count  Dtype \n",
      "---  ------         --------------  ----- \n",
      " 0   Car_id         5002 non-null   object\n",
      " 1   Dealer_Name    5002 non-null   object\n",
      " 2   Dealer_No      5002 non-null   object\n",
      " 3   Dealer_Region  5002 non-null   object\n",
      "dtypes: object(4)\n",
      "memory usage: 156.4+ KB\n"
     ]
    }
   ],
   "source": [
    "#FILL IN - Inspecting the dataframe programmatically\n",
    "df2.info()"
   ]
  },
  {
   "cell_type": "markdown",
   "id": "b9d41e3d",
   "metadata": {
    "id": "b9d41e3d"
   },
   "source": [
    "## 3. Clean data\n",
    "Clean the data to solve the 4 issues corresponding to data quality and tidiness found in the assessing step.\n",
    "\n",
    "Make copies of the datasets"
   ]
  },
  {
   "cell_type": "code",
   "execution_count": 88,
   "id": "541fdc80",
   "metadata": {
    "id": "541fdc80"
   },
   "outputs": [],
   "source": [
    "# FILL IN - Make copies of the datasets to ensure the raw dataframes are not impacted\n",
    "df1_copy = df1.copy()\n",
    "df2_copy = df2.copy()"
   ]
  },
  {
   "cell_type": "markdown",
   "id": "70a2fd81",
   "metadata": {
    "id": "70a2fd81"
   },
   "source": [
    "### **Quality Issue 1: FILL IN**"
   ]
  },
  {
   "cell_type": "code",
   "execution_count": 89,
   "id": "f041f5c3",
   "metadata": {
    "id": "f041f5c3",
    "outputId": "a3f3c91c-1e6d-43ca-e34f-3d4dccce1dad"
   },
   "outputs": [
    {
     "data": {
      "text/html": [
       "<div>\n",
       "<style scoped>\n",
       "    .dataframe tbody tr th:only-of-type {\n",
       "        vertical-align: middle;\n",
       "    }\n",
       "\n",
       "    .dataframe tbody tr th {\n",
       "        vertical-align: top;\n",
       "    }\n",
       "\n",
       "    .dataframe thead th {\n",
       "        text-align: right;\n",
       "    }\n",
       "</style>\n",
       "<table border=\"1\" class=\"dataframe\">\n",
       "  <thead>\n",
       "    <tr style=\"text-align: right;\">\n",
       "      <th></th>\n",
       "      <th>Car_id</th>\n",
       "      <th>Date</th>\n",
       "      <th>Customer Name</th>\n",
       "      <th>Gender</th>\n",
       "      <th>Annual Income</th>\n",
       "      <th>Company</th>\n",
       "      <th>Model</th>\n",
       "      <th>Engine</th>\n",
       "      <th>Transmission</th>\n",
       "      <th>Color</th>\n",
       "      <th>Price ($)</th>\n",
       "      <th>Body Style</th>\n",
       "      <th>Phone</th>\n",
       "    </tr>\n",
       "  </thead>\n",
       "  <tbody>\n",
       "    <tr>\n",
       "      <th>0</th>\n",
       "      <td>C_CND_000001</td>\n",
       "      <td>1/2/2022</td>\n",
       "      <td>Geraldine</td>\n",
       "      <td>Male</td>\n",
       "      <td>13500</td>\n",
       "      <td>Ford</td>\n",
       "      <td>Expedition</td>\n",
       "      <td>DoubleÂ Overhead Camshaft</td>\n",
       "      <td>Auto</td>\n",
       "      <td>Black</td>\n",
       "      <td>26000.0</td>\n",
       "      <td>SUV</td>\n",
       "      <td>8264678</td>\n",
       "    </tr>\n",
       "    <tr>\n",
       "      <th>1</th>\n",
       "      <td>C_CND_000002</td>\n",
       "      <td>1/2/2022</td>\n",
       "      <td>Gia</td>\n",
       "      <td>Male</td>\n",
       "      <td>1480000</td>\n",
       "      <td>Dodge</td>\n",
       "      <td>Durango</td>\n",
       "      <td>DoubleÂ Overhead Camshaft</td>\n",
       "      <td>Auto</td>\n",
       "      <td>Black</td>\n",
       "      <td>19000.0</td>\n",
       "      <td>SUV</td>\n",
       "      <td>6848189</td>\n",
       "    </tr>\n",
       "    <tr>\n",
       "      <th>2</th>\n",
       "      <td>C_CND_000003</td>\n",
       "      <td>1/2/2022</td>\n",
       "      <td>Gianna</td>\n",
       "      <td>Male</td>\n",
       "      <td>1035000</td>\n",
       "      <td>Cadillac</td>\n",
       "      <td>Eldorado</td>\n",
       "      <td>Overhead Camshaft</td>\n",
       "      <td>Manual</td>\n",
       "      <td>Red</td>\n",
       "      <td>NaN</td>\n",
       "      <td>Passenger</td>\n",
       "      <td>7298798</td>\n",
       "    </tr>\n",
       "    <tr>\n",
       "      <th>3</th>\n",
       "      <td>C_CND_000004</td>\n",
       "      <td>1/2/2022</td>\n",
       "      <td>Giselle</td>\n",
       "      <td>Male</td>\n",
       "      <td>13500</td>\n",
       "      <td>Toyota</td>\n",
       "      <td>Celica</td>\n",
       "      <td>Overhead Camshaft</td>\n",
       "      <td>Manual</td>\n",
       "      <td>Pale White</td>\n",
       "      <td>14000.0</td>\n",
       "      <td>SUV</td>\n",
       "      <td>6257557</td>\n",
       "    </tr>\n",
       "    <tr>\n",
       "      <th>4</th>\n",
       "      <td>C_CND_000005</td>\n",
       "      <td>1/2/2022</td>\n",
       "      <td>Grace</td>\n",
       "      <td>Male</td>\n",
       "      <td>1465000</td>\n",
       "      <td>Acura</td>\n",
       "      <td>TL</td>\n",
       "      <td>DoubleÂ Overhead Camshaft</td>\n",
       "      <td>Auto</td>\n",
       "      <td>Red</td>\n",
       "      <td>24500.0</td>\n",
       "      <td>Hatchback</td>\n",
       "      <td>7081483</td>\n",
       "    </tr>\n",
       "  </tbody>\n",
       "</table>\n",
       "</div>"
      ],
      "text/plain": [
       "         Car_id      Date Customer Name Gender  Annual Income   Company  \\\n",
       "0  C_CND_000001  1/2/2022     Geraldine   Male          13500      Ford   \n",
       "1  C_CND_000002  1/2/2022           Gia   Male        1480000     Dodge   \n",
       "2  C_CND_000003  1/2/2022        Gianna   Male        1035000  Cadillac   \n",
       "3  C_CND_000004  1/2/2022       Giselle   Male          13500    Toyota   \n",
       "4  C_CND_000005  1/2/2022         Grace   Male        1465000     Acura   \n",
       "\n",
       "        Model                     Engine Transmission       Color  Price ($)  \\\n",
       "0  Expedition  DoubleÂ Overhead Camshaft         Auto       Black    26000.0   \n",
       "1     Durango  DoubleÂ Overhead Camshaft         Auto       Black    19000.0   \n",
       "2    Eldorado          Overhead Camshaft       Manual         Red        NaN   \n",
       "3      Celica          Overhead Camshaft       Manual  Pale White    14000.0   \n",
       "4          TL  DoubleÂ Overhead Camshaft         Auto         Red    24500.0   \n",
       "\n",
       "  Body Style    Phone  \n",
       "0        SUV  8264678  \n",
       "1        SUV  6848189  \n",
       "2  Passenger  7298798  \n",
       "3        SUV  6257557  \n",
       "4  Hatchback  7081483  "
      ]
     },
     "execution_count": 89,
     "metadata": {},
     "output_type": "execute_result"
    }
   ],
   "source": [
    "#FILL IN\n",
    "df1_copy.head()"
   ]
  },
  {
   "cell_type": "markdown",
   "id": "1732e0d2",
   "metadata": {
    "id": "1732e0d2"
   },
   "source": [
    "### **Quality Issue 2: FILL IN**"
   ]
  },
  {
   "cell_type": "code",
   "execution_count": 90,
   "id": "2cdda838",
   "metadata": {
    "id": "2cdda838",
    "outputId": "e2744ebc-f139-49bb-c9df-d2b8e183f305"
   },
   "outputs": [
    {
     "data": {
      "text/plain": [
       "Car_id            0\n",
       "Date              0\n",
       "Customer Name     0\n",
       "Gender            0\n",
       "Annual Income     0\n",
       "Company           0\n",
       "Model             0\n",
       "Engine            0\n",
       "Transmission      0\n",
       "Color             0\n",
       "Price ($)        15\n",
       "Body Style        0\n",
       "Phone             0\n",
       "dtype: int64"
      ]
     },
     "execution_count": 90,
     "metadata": {},
     "output_type": "execute_result"
    }
   ],
   "source": [
    "#FILL IN - Apply the cleaning strategy\n",
    "df1_copy.isnull().sum()"
   ]
  },
  {
   "cell_type": "code",
   "execution_count": 91,
   "id": "81602b1b",
   "metadata": {
    "id": "81602b1b",
    "outputId": "c85e6604-9d69-4a25-fb0e-80650287d8bf"
   },
   "outputs": [
    {
     "data": {
      "text/plain": [
       "Car_id            object\n",
       "Date              object\n",
       "Customer Name     object\n",
       "Gender            object\n",
       "Annual Income      int64\n",
       "Company           object\n",
       "Model             object\n",
       "Engine            object\n",
       "Transmission      object\n",
       "Color             object\n",
       "Price ($)        float64\n",
       "Body Style        object\n",
       "Phone              int64\n",
       "dtype: object"
      ]
     },
     "execution_count": 91,
     "metadata": {},
     "output_type": "execute_result"
    }
   ],
   "source": [
    "df1_copy.dtypes"
   ]
  },
  {
   "cell_type": "code",
   "execution_count": 92,
   "id": "8ff66fea",
   "metadata": {
    "id": "8ff66fea",
    "outputId": "bac76b0a-1f02-4fe4-bfbb-e6b8b600a117"
   },
   "outputs": [
    {
     "data": {
      "text/plain": [
       "3"
      ]
     },
     "execution_count": 92,
     "metadata": {},
     "output_type": "execute_result"
    }
   ],
   "source": [
    "df1_copy.duplicated().sum()"
   ]
  },
  {
   "cell_type": "code",
   "execution_count": 93,
   "id": "6c328eb1",
   "metadata": {
    "id": "6c328eb1",
    "outputId": "a6077141-0e68-453a-c67f-391ba2f93c0f"
   },
   "outputs": [
    {
     "data": {
      "text/plain": [
       "3"
      ]
     },
     "execution_count": 93,
     "metadata": {},
     "output_type": "execute_result"
    }
   ],
   "source": [
    "df2_copy.duplicated().sum()"
   ]
  },
  {
   "cell_type": "code",
   "execution_count": 94,
   "id": "d2c20431",
   "metadata": {
    "id": "d2c20431",
    "outputId": "fb823446-ef0d-4b80-daae-8d5461fbc978"
   },
   "outputs": [
    {
     "data": {
      "text/html": [
       "<div>\n",
       "<style scoped>\n",
       "    .dataframe tbody tr th:only-of-type {\n",
       "        vertical-align: middle;\n",
       "    }\n",
       "\n",
       "    .dataframe tbody tr th {\n",
       "        vertical-align: top;\n",
       "    }\n",
       "\n",
       "    .dataframe thead th {\n",
       "        text-align: right;\n",
       "    }\n",
       "</style>\n",
       "<table border=\"1\" class=\"dataframe\">\n",
       "  <thead>\n",
       "    <tr style=\"text-align: right;\">\n",
       "      <th></th>\n",
       "      <th>Car_id</th>\n",
       "      <th>Date</th>\n",
       "      <th>Customer Name</th>\n",
       "      <th>Gender</th>\n",
       "      <th>Annual Income</th>\n",
       "      <th>Company</th>\n",
       "      <th>Model</th>\n",
       "      <th>Engine</th>\n",
       "      <th>Transmission</th>\n",
       "      <th>Color</th>\n",
       "      <th>Price ($)</th>\n",
       "      <th>Body Style</th>\n",
       "      <th>Phone</th>\n",
       "    </tr>\n",
       "  </thead>\n",
       "  <tbody>\n",
       "    <tr>\n",
       "      <th>0</th>\n",
       "      <td>C_CND_000001</td>\n",
       "      <td>1/2/2022</td>\n",
       "      <td>Geraldine</td>\n",
       "      <td>Male</td>\n",
       "      <td>13500</td>\n",
       "      <td>Ford</td>\n",
       "      <td>Expedition</td>\n",
       "      <td>DoubleÂ Overhead Camshaft</td>\n",
       "      <td>Auto</td>\n",
       "      <td>Black</td>\n",
       "      <td>26000.0</td>\n",
       "      <td>SUV</td>\n",
       "      <td>8264678</td>\n",
       "    </tr>\n",
       "    <tr>\n",
       "      <th>1</th>\n",
       "      <td>C_CND_000002</td>\n",
       "      <td>1/2/2022</td>\n",
       "      <td>Gia</td>\n",
       "      <td>Male</td>\n",
       "      <td>1480000</td>\n",
       "      <td>Dodge</td>\n",
       "      <td>Durango</td>\n",
       "      <td>DoubleÂ Overhead Camshaft</td>\n",
       "      <td>Auto</td>\n",
       "      <td>Black</td>\n",
       "      <td>19000.0</td>\n",
       "      <td>SUV</td>\n",
       "      <td>6848189</td>\n",
       "    </tr>\n",
       "    <tr>\n",
       "      <th>2</th>\n",
       "      <td>C_CND_000003</td>\n",
       "      <td>1/2/2022</td>\n",
       "      <td>Gianna</td>\n",
       "      <td>Male</td>\n",
       "      <td>1035000</td>\n",
       "      <td>Cadillac</td>\n",
       "      <td>Eldorado</td>\n",
       "      <td>Overhead Camshaft</td>\n",
       "      <td>Manual</td>\n",
       "      <td>Red</td>\n",
       "      <td>NaN</td>\n",
       "      <td>Passenger</td>\n",
       "      <td>7298798</td>\n",
       "    </tr>\n",
       "    <tr>\n",
       "      <th>3</th>\n",
       "      <td>C_CND_000004</td>\n",
       "      <td>1/2/2022</td>\n",
       "      <td>Giselle</td>\n",
       "      <td>Male</td>\n",
       "      <td>13500</td>\n",
       "      <td>Toyota</td>\n",
       "      <td>Celica</td>\n",
       "      <td>Overhead Camshaft</td>\n",
       "      <td>Manual</td>\n",
       "      <td>Pale White</td>\n",
       "      <td>14000.0</td>\n",
       "      <td>SUV</td>\n",
       "      <td>6257557</td>\n",
       "    </tr>\n",
       "    <tr>\n",
       "      <th>4</th>\n",
       "      <td>C_CND_000005</td>\n",
       "      <td>1/2/2022</td>\n",
       "      <td>Grace</td>\n",
       "      <td>Male</td>\n",
       "      <td>1465000</td>\n",
       "      <td>Acura</td>\n",
       "      <td>TL</td>\n",
       "      <td>DoubleÂ Overhead Camshaft</td>\n",
       "      <td>Auto</td>\n",
       "      <td>Red</td>\n",
       "      <td>24500.0</td>\n",
       "      <td>Hatchback</td>\n",
       "      <td>7081483</td>\n",
       "    </tr>\n",
       "    <tr>\n",
       "      <th>...</th>\n",
       "      <td>...</td>\n",
       "      <td>...</td>\n",
       "      <td>...</td>\n",
       "      <td>...</td>\n",
       "      <td>...</td>\n",
       "      <td>...</td>\n",
       "      <td>...</td>\n",
       "      <td>...</td>\n",
       "      <td>...</td>\n",
       "      <td>...</td>\n",
       "      <td>...</td>\n",
       "      <td>...</td>\n",
       "      <td>...</td>\n",
       "    </tr>\n",
       "    <tr>\n",
       "      <th>4997</th>\n",
       "      <td>C_CND_004998</td>\n",
       "      <td>8/28/2022</td>\n",
       "      <td>Elina</td>\n",
       "      <td>Male</td>\n",
       "      <td>1500000</td>\n",
       "      <td>Saturn</td>\n",
       "      <td>LS</td>\n",
       "      <td>DoubleÂ Overhead Camshaft</td>\n",
       "      <td>Auto</td>\n",
       "      <td>Red</td>\n",
       "      <td>24000.0</td>\n",
       "      <td>Sedan</td>\n",
       "      <td>7050688</td>\n",
       "    </tr>\n",
       "    <tr>\n",
       "      <th>4998</th>\n",
       "      <td>C_CND_004999</td>\n",
       "      <td>8/28/2022</td>\n",
       "      <td>Elizabeth</td>\n",
       "      <td>Male</td>\n",
       "      <td>1850000</td>\n",
       "      <td>Pontiac</td>\n",
       "      <td>Grand Am</td>\n",
       "      <td>DoubleÂ Overhead Camshaft</td>\n",
       "      <td>Auto</td>\n",
       "      <td>Pale White</td>\n",
       "      <td>12000.0</td>\n",
       "      <td>SUV</td>\n",
       "      <td>6236154</td>\n",
       "    </tr>\n",
       "    <tr>\n",
       "      <th>4999</th>\n",
       "      <td>C_CND_004997</td>\n",
       "      <td>8/28/2022</td>\n",
       "      <td>Elena</td>\n",
       "      <td>Female</td>\n",
       "      <td>3900000</td>\n",
       "      <td>Jeep</td>\n",
       "      <td>Wrangler</td>\n",
       "      <td>Overhead Camshaft</td>\n",
       "      <td>Manual</td>\n",
       "      <td>Pale White</td>\n",
       "      <td>NaN</td>\n",
       "      <td>Hatchback</td>\n",
       "      <td>7664667</td>\n",
       "    </tr>\n",
       "    <tr>\n",
       "      <th>5000</th>\n",
       "      <td>C_CND_004998</td>\n",
       "      <td>8/28/2022</td>\n",
       "      <td>Elina</td>\n",
       "      <td>Male</td>\n",
       "      <td>1500000</td>\n",
       "      <td>Saturn</td>\n",
       "      <td>LS</td>\n",
       "      <td>DoubleÂ Overhead Camshaft</td>\n",
       "      <td>Auto</td>\n",
       "      <td>Red</td>\n",
       "      <td>24000.0</td>\n",
       "      <td>Sedan</td>\n",
       "      <td>7050688</td>\n",
       "    </tr>\n",
       "    <tr>\n",
       "      <th>5001</th>\n",
       "      <td>C_CND_004999</td>\n",
       "      <td>8/28/2022</td>\n",
       "      <td>Elizabeth</td>\n",
       "      <td>Male</td>\n",
       "      <td>1850000</td>\n",
       "      <td>Pontiac</td>\n",
       "      <td>Grand Am</td>\n",
       "      <td>DoubleÂ Overhead Camshaft</td>\n",
       "      <td>Auto</td>\n",
       "      <td>Pale White</td>\n",
       "      <td>12000.0</td>\n",
       "      <td>SUV</td>\n",
       "      <td>6236154</td>\n",
       "    </tr>\n",
       "  </tbody>\n",
       "</table>\n",
       "<p>5002 rows × 13 columns</p>\n",
       "</div>"
      ],
      "text/plain": [
       "            Car_id       Date Customer Name  Gender  Annual Income   Company  \\\n",
       "0     C_CND_000001   1/2/2022     Geraldine    Male          13500      Ford   \n",
       "1     C_CND_000002   1/2/2022           Gia    Male        1480000     Dodge   \n",
       "2     C_CND_000003   1/2/2022        Gianna    Male        1035000  Cadillac   \n",
       "3     C_CND_000004   1/2/2022       Giselle    Male          13500    Toyota   \n",
       "4     C_CND_000005   1/2/2022         Grace    Male        1465000     Acura   \n",
       "...            ...        ...           ...     ...            ...       ...   \n",
       "4997  C_CND_004998  8/28/2022         Elina    Male        1500000    Saturn   \n",
       "4998  C_CND_004999  8/28/2022     Elizabeth    Male        1850000   Pontiac   \n",
       "4999  C_CND_004997  8/28/2022         Elena  Female        3900000      Jeep   \n",
       "5000  C_CND_004998  8/28/2022         Elina    Male        1500000    Saturn   \n",
       "5001  C_CND_004999  8/28/2022     Elizabeth    Male        1850000   Pontiac   \n",
       "\n",
       "           Model                     Engine Transmission       Color  \\\n",
       "0     Expedition  DoubleÂ Overhead Camshaft         Auto       Black   \n",
       "1        Durango  DoubleÂ Overhead Camshaft         Auto       Black   \n",
       "2       Eldorado          Overhead Camshaft       Manual         Red   \n",
       "3         Celica          Overhead Camshaft       Manual  Pale White   \n",
       "4             TL  DoubleÂ Overhead Camshaft         Auto         Red   \n",
       "...          ...                        ...          ...         ...   \n",
       "4997          LS  DoubleÂ Overhead Camshaft         Auto         Red   \n",
       "4998    Grand Am  DoubleÂ Overhead Camshaft         Auto  Pale White   \n",
       "4999    Wrangler          Overhead Camshaft       Manual  Pale White   \n",
       "5000          LS  DoubleÂ Overhead Camshaft         Auto         Red   \n",
       "5001    Grand Am  DoubleÂ Overhead Camshaft         Auto  Pale White   \n",
       "\n",
       "      Price ($) Body Style    Phone  \n",
       "0       26000.0        SUV  8264678  \n",
       "1       19000.0        SUV  6848189  \n",
       "2           NaN  Passenger  7298798  \n",
       "3       14000.0        SUV  6257557  \n",
       "4       24500.0  Hatchback  7081483  \n",
       "...         ...        ...      ...  \n",
       "4997    24000.0      Sedan  7050688  \n",
       "4998    12000.0        SUV  6236154  \n",
       "4999        NaN  Hatchback  7664667  \n",
       "5000    24000.0      Sedan  7050688  \n",
       "5001    12000.0        SUV  6236154  \n",
       "\n",
       "[5002 rows x 13 columns]"
      ]
     },
     "execution_count": 94,
     "metadata": {},
     "output_type": "execute_result"
    }
   ],
   "source": [
    "df1_copy"
   ]
  },
  {
   "cell_type": "markdown",
   "id": "d7438552",
   "metadata": {
    "id": "d7438552"
   },
   "source": [
    "### **Remove unnecessary variables and combine datasets if needed**"
   ]
  },
  {
   "cell_type": "code",
   "execution_count": 95,
   "id": "8e55353e",
   "metadata": {
    "id": "8e55353e"
   },
   "outputs": [],
   "source": [
    "#FILL IN - Remove unnecessary variables and combine datasets\n",
    "df1_copy = df1_copy.drop(['Engine','Phone'],axis=1)"
   ]
  },
  {
   "cell_type": "code",
   "execution_count": 97,
   "id": "108c9e21",
   "metadata": {},
   "outputs": [],
   "source": [
    "df1_copy= df1_copy.drop_duplicates()"
   ]
  },
  {
   "cell_type": "code",
   "execution_count": 98,
   "id": "cf0e4863",
   "metadata": {},
   "outputs": [],
   "source": [
    "df1_copy = df1_copy.rename(columns = {'Car_id': 'id', 'Price ($)':'price'})"
   ]
  },
  {
   "cell_type": "code",
   "execution_count": 105,
   "id": "bcf00158",
   "metadata": {},
   "outputs": [],
   "source": [
    "df2_copy = df2_copy.rename(columns = {'Car_id': 'id'})"
   ]
  },
  {
   "cell_type": "code",
   "execution_count": 100,
   "id": "16245ef9",
   "metadata": {},
   "outputs": [
    {
     "data": {
      "text/html": [
       "<div>\n",
       "<style scoped>\n",
       "    .dataframe tbody tr th:only-of-type {\n",
       "        vertical-align: middle;\n",
       "    }\n",
       "\n",
       "    .dataframe tbody tr th {\n",
       "        vertical-align: top;\n",
       "    }\n",
       "\n",
       "    .dataframe thead th {\n",
       "        text-align: right;\n",
       "    }\n",
       "</style>\n",
       "<table border=\"1\" class=\"dataframe\">\n",
       "  <thead>\n",
       "    <tr style=\"text-align: right;\">\n",
       "      <th></th>\n",
       "      <th>id</th>\n",
       "      <th>Date</th>\n",
       "      <th>Customer Name</th>\n",
       "      <th>Gender</th>\n",
       "      <th>Annual Income</th>\n",
       "      <th>Company</th>\n",
       "      <th>Model</th>\n",
       "      <th>Transmission</th>\n",
       "      <th>Color</th>\n",
       "      <th>price</th>\n",
       "      <th>Body Style</th>\n",
       "    </tr>\n",
       "  </thead>\n",
       "  <tbody>\n",
       "    <tr>\n",
       "      <th>0</th>\n",
       "      <td>C_CND_000001</td>\n",
       "      <td>1/2/2022</td>\n",
       "      <td>Geraldine</td>\n",
       "      <td>Male</td>\n",
       "      <td>13500</td>\n",
       "      <td>Ford</td>\n",
       "      <td>Expedition</td>\n",
       "      <td>Auto</td>\n",
       "      <td>Black</td>\n",
       "      <td>26000.0</td>\n",
       "      <td>SUV</td>\n",
       "    </tr>\n",
       "    <tr>\n",
       "      <th>1</th>\n",
       "      <td>C_CND_000002</td>\n",
       "      <td>1/2/2022</td>\n",
       "      <td>Gia</td>\n",
       "      <td>Male</td>\n",
       "      <td>1480000</td>\n",
       "      <td>Dodge</td>\n",
       "      <td>Durango</td>\n",
       "      <td>Auto</td>\n",
       "      <td>Black</td>\n",
       "      <td>19000.0</td>\n",
       "      <td>SUV</td>\n",
       "    </tr>\n",
       "    <tr>\n",
       "      <th>2</th>\n",
       "      <td>C_CND_000003</td>\n",
       "      <td>1/2/2022</td>\n",
       "      <td>Gianna</td>\n",
       "      <td>Male</td>\n",
       "      <td>1035000</td>\n",
       "      <td>Cadillac</td>\n",
       "      <td>Eldorado</td>\n",
       "      <td>Manual</td>\n",
       "      <td>Red</td>\n",
       "      <td>NaN</td>\n",
       "      <td>Passenger</td>\n",
       "    </tr>\n",
       "    <tr>\n",
       "      <th>3</th>\n",
       "      <td>C_CND_000004</td>\n",
       "      <td>1/2/2022</td>\n",
       "      <td>Giselle</td>\n",
       "      <td>Male</td>\n",
       "      <td>13500</td>\n",
       "      <td>Toyota</td>\n",
       "      <td>Celica</td>\n",
       "      <td>Manual</td>\n",
       "      <td>Pale White</td>\n",
       "      <td>14000.0</td>\n",
       "      <td>SUV</td>\n",
       "    </tr>\n",
       "    <tr>\n",
       "      <th>4</th>\n",
       "      <td>C_CND_000005</td>\n",
       "      <td>1/2/2022</td>\n",
       "      <td>Grace</td>\n",
       "      <td>Male</td>\n",
       "      <td>1465000</td>\n",
       "      <td>Acura</td>\n",
       "      <td>TL</td>\n",
       "      <td>Auto</td>\n",
       "      <td>Red</td>\n",
       "      <td>24500.0</td>\n",
       "      <td>Hatchback</td>\n",
       "    </tr>\n",
       "    <tr>\n",
       "      <th>...</th>\n",
       "      <td>...</td>\n",
       "      <td>...</td>\n",
       "      <td>...</td>\n",
       "      <td>...</td>\n",
       "      <td>...</td>\n",
       "      <td>...</td>\n",
       "      <td>...</td>\n",
       "      <td>...</td>\n",
       "      <td>...</td>\n",
       "      <td>...</td>\n",
       "      <td>...</td>\n",
       "    </tr>\n",
       "    <tr>\n",
       "      <th>4994</th>\n",
       "      <td>C_CND_004995</td>\n",
       "      <td>8/27/2022</td>\n",
       "      <td>Eleanor</td>\n",
       "      <td>Male</td>\n",
       "      <td>13500</td>\n",
       "      <td>Volkswagen</td>\n",
       "      <td>Jetta</td>\n",
       "      <td>Auto</td>\n",
       "      <td>Black</td>\n",
       "      <td>22000.0</td>\n",
       "      <td>Passenger</td>\n",
       "    </tr>\n",
       "    <tr>\n",
       "      <th>4995</th>\n",
       "      <td>C_CND_004996</td>\n",
       "      <td>8/28/2022</td>\n",
       "      <td>Elaine</td>\n",
       "      <td>Male</td>\n",
       "      <td>13500</td>\n",
       "      <td>Ford</td>\n",
       "      <td>Expedition</td>\n",
       "      <td>Auto</td>\n",
       "      <td>Black</td>\n",
       "      <td>26000.0</td>\n",
       "      <td>SUV</td>\n",
       "    </tr>\n",
       "    <tr>\n",
       "      <th>4996</th>\n",
       "      <td>C_CND_004997</td>\n",
       "      <td>8/28/2022</td>\n",
       "      <td>Elena</td>\n",
       "      <td>Female</td>\n",
       "      <td>3900000</td>\n",
       "      <td>Jeep</td>\n",
       "      <td>Wrangler</td>\n",
       "      <td>Manual</td>\n",
       "      <td>Pale White</td>\n",
       "      <td>NaN</td>\n",
       "      <td>Hatchback</td>\n",
       "    </tr>\n",
       "    <tr>\n",
       "      <th>4997</th>\n",
       "      <td>C_CND_004998</td>\n",
       "      <td>8/28/2022</td>\n",
       "      <td>Elina</td>\n",
       "      <td>Male</td>\n",
       "      <td>1500000</td>\n",
       "      <td>Saturn</td>\n",
       "      <td>LS</td>\n",
       "      <td>Auto</td>\n",
       "      <td>Red</td>\n",
       "      <td>24000.0</td>\n",
       "      <td>Sedan</td>\n",
       "    </tr>\n",
       "    <tr>\n",
       "      <th>4998</th>\n",
       "      <td>C_CND_004999</td>\n",
       "      <td>8/28/2022</td>\n",
       "      <td>Elizabeth</td>\n",
       "      <td>Male</td>\n",
       "      <td>1850000</td>\n",
       "      <td>Pontiac</td>\n",
       "      <td>Grand Am</td>\n",
       "      <td>Auto</td>\n",
       "      <td>Pale White</td>\n",
       "      <td>12000.0</td>\n",
       "      <td>SUV</td>\n",
       "    </tr>\n",
       "  </tbody>\n",
       "</table>\n",
       "<p>4999 rows × 11 columns</p>\n",
       "</div>"
      ],
      "text/plain": [
       "                id       Date Customer Name  Gender  Annual Income  \\\n",
       "0     C_CND_000001   1/2/2022     Geraldine    Male          13500   \n",
       "1     C_CND_000002   1/2/2022           Gia    Male        1480000   \n",
       "2     C_CND_000003   1/2/2022        Gianna    Male        1035000   \n",
       "3     C_CND_000004   1/2/2022       Giselle    Male          13500   \n",
       "4     C_CND_000005   1/2/2022         Grace    Male        1465000   \n",
       "...            ...        ...           ...     ...            ...   \n",
       "4994  C_CND_004995  8/27/2022       Eleanor    Male          13500   \n",
       "4995  C_CND_004996  8/28/2022        Elaine    Male          13500   \n",
       "4996  C_CND_004997  8/28/2022         Elena  Female        3900000   \n",
       "4997  C_CND_004998  8/28/2022         Elina    Male        1500000   \n",
       "4998  C_CND_004999  8/28/2022     Elizabeth    Male        1850000   \n",
       "\n",
       "         Company       Model Transmission       Color    price Body Style  \n",
       "0           Ford  Expedition         Auto       Black  26000.0        SUV  \n",
       "1          Dodge     Durango         Auto       Black  19000.0        SUV  \n",
       "2       Cadillac    Eldorado       Manual         Red      NaN  Passenger  \n",
       "3         Toyota      Celica       Manual  Pale White  14000.0        SUV  \n",
       "4          Acura          TL         Auto         Red  24500.0  Hatchback  \n",
       "...          ...         ...          ...         ...      ...        ...  \n",
       "4994  Volkswagen       Jetta         Auto       Black  22000.0  Passenger  \n",
       "4995        Ford  Expedition         Auto       Black  26000.0        SUV  \n",
       "4996        Jeep    Wrangler       Manual  Pale White      NaN  Hatchback  \n",
       "4997      Saturn          LS         Auto         Red  24000.0      Sedan  \n",
       "4998     Pontiac    Grand Am         Auto  Pale White  12000.0        SUV  \n",
       "\n",
       "[4999 rows x 11 columns]"
      ]
     },
     "execution_count": 100,
     "metadata": {},
     "output_type": "execute_result"
    }
   ],
   "source": [
    "df1_copy"
   ]
  },
  {
   "cell_type": "code",
   "execution_count": 101,
   "id": "bc2c3c37",
   "metadata": {},
   "outputs": [],
   "source": [
    "# Tính giá trị trung bình của cột 'price'\n",
    "mean_price = df1_copy['price'].mean()\n",
    "\n",
    "# Điền giá trị trung bình vào các ô NaN trong cột 'price'\n",
    "df1_copy['price'] = df1_copy['price'].fillna(mean_price)"
   ]
  },
  {
   "cell_type": "code",
   "execution_count": 106,
   "id": "49f0cd81",
   "metadata": {
    "id": "49f0cd81",
    "outputId": "1f17df53-5ba4-4458-b717-466c6e50def2"
   },
   "outputs": [
    {
     "data": {
      "text/html": [
       "<div>\n",
       "<style scoped>\n",
       "    .dataframe tbody tr th:only-of-type {\n",
       "        vertical-align: middle;\n",
       "    }\n",
       "\n",
       "    .dataframe tbody tr th {\n",
       "        vertical-align: top;\n",
       "    }\n",
       "\n",
       "    .dataframe thead th {\n",
       "        text-align: right;\n",
       "    }\n",
       "</style>\n",
       "<table border=\"1\" class=\"dataframe\">\n",
       "  <thead>\n",
       "    <tr style=\"text-align: right;\">\n",
       "      <th></th>\n",
       "      <th>id</th>\n",
       "      <th>Date</th>\n",
       "      <th>Customer Name</th>\n",
       "      <th>Gender</th>\n",
       "      <th>Annual Income</th>\n",
       "      <th>Company</th>\n",
       "      <th>Model</th>\n",
       "      <th>Transmission</th>\n",
       "      <th>Color</th>\n",
       "      <th>price</th>\n",
       "      <th>Body Style</th>\n",
       "      <th>Dealer_Name</th>\n",
       "      <th>Dealer_No</th>\n",
       "      <th>Dealer_Region</th>\n",
       "    </tr>\n",
       "  </thead>\n",
       "  <tbody>\n",
       "    <tr>\n",
       "      <th>0</th>\n",
       "      <td>C_CND_000001</td>\n",
       "      <td>1/2/2022</td>\n",
       "      <td>Geraldine</td>\n",
       "      <td>Male</td>\n",
       "      <td>13500</td>\n",
       "      <td>Ford</td>\n",
       "      <td>Expedition</td>\n",
       "      <td>Auto</td>\n",
       "      <td>Black</td>\n",
       "      <td>26000.000000</td>\n",
       "      <td>SUV</td>\n",
       "      <td>Buddy Storbeck's Diesel Service Inc</td>\n",
       "      <td>06457-3834</td>\n",
       "      <td>Middletown</td>\n",
       "    </tr>\n",
       "    <tr>\n",
       "      <th>1</th>\n",
       "      <td>C_CND_000002</td>\n",
       "      <td>1/2/2022</td>\n",
       "      <td>Gia</td>\n",
       "      <td>Male</td>\n",
       "      <td>1480000</td>\n",
       "      <td>Dodge</td>\n",
       "      <td>Durango</td>\n",
       "      <td>Auto</td>\n",
       "      <td>Black</td>\n",
       "      <td>19000.000000</td>\n",
       "      <td>SUV</td>\n",
       "      <td>C &amp; M Motors Inc</td>\n",
       "      <td>60504-7114</td>\n",
       "      <td>Aurora</td>\n",
       "    </tr>\n",
       "    <tr>\n",
       "      <th>2</th>\n",
       "      <td>C_CND_000003</td>\n",
       "      <td>1/2/2022</td>\n",
       "      <td>Gianna</td>\n",
       "      <td>Male</td>\n",
       "      <td>1035000</td>\n",
       "      <td>Cadillac</td>\n",
       "      <td>Eldorado</td>\n",
       "      <td>Manual</td>\n",
       "      <td>Red</td>\n",
       "      <td>28245.751254</td>\n",
       "      <td>Passenger</td>\n",
       "      <td>Capitol KIA</td>\n",
       "      <td>38701-8047</td>\n",
       "      <td>Greenville</td>\n",
       "    </tr>\n",
       "    <tr>\n",
       "      <th>3</th>\n",
       "      <td>C_CND_000004</td>\n",
       "      <td>1/2/2022</td>\n",
       "      <td>Giselle</td>\n",
       "      <td>Male</td>\n",
       "      <td>13500</td>\n",
       "      <td>Toyota</td>\n",
       "      <td>Celica</td>\n",
       "      <td>Manual</td>\n",
       "      <td>Pale White</td>\n",
       "      <td>14000.000000</td>\n",
       "      <td>SUV</td>\n",
       "      <td>Chrysler of Tri-Cities</td>\n",
       "      <td>99301-3882</td>\n",
       "      <td>Pasco</td>\n",
       "    </tr>\n",
       "    <tr>\n",
       "      <th>4</th>\n",
       "      <td>C_CND_000005</td>\n",
       "      <td>1/2/2022</td>\n",
       "      <td>Grace</td>\n",
       "      <td>Male</td>\n",
       "      <td>1465000</td>\n",
       "      <td>Acura</td>\n",
       "      <td>TL</td>\n",
       "      <td>Auto</td>\n",
       "      <td>Red</td>\n",
       "      <td>24500.000000</td>\n",
       "      <td>Hatchback</td>\n",
       "      <td>Chrysler Plymouth</td>\n",
       "      <td>53546-9427</td>\n",
       "      <td>Janesville</td>\n",
       "    </tr>\n",
       "  </tbody>\n",
       "</table>\n",
       "</div>"
      ],
      "text/plain": [
       "             id      Date Customer Name Gender  Annual Income   Company  \\\n",
       "0  C_CND_000001  1/2/2022     Geraldine   Male          13500      Ford   \n",
       "1  C_CND_000002  1/2/2022           Gia   Male        1480000     Dodge   \n",
       "2  C_CND_000003  1/2/2022        Gianna   Male        1035000  Cadillac   \n",
       "3  C_CND_000004  1/2/2022       Giselle   Male          13500    Toyota   \n",
       "4  C_CND_000005  1/2/2022         Grace   Male        1465000     Acura   \n",
       "\n",
       "        Model Transmission       Color         price Body Style  \\\n",
       "0  Expedition         Auto       Black  26000.000000        SUV   \n",
       "1     Durango         Auto       Black  19000.000000        SUV   \n",
       "2    Eldorado       Manual         Red  28245.751254  Passenger   \n",
       "3      Celica       Manual  Pale White  14000.000000        SUV   \n",
       "4          TL         Auto         Red  24500.000000  Hatchback   \n",
       "\n",
       "                           Dealer_Name  Dealer_No  Dealer_Region  \n",
       "0  Buddy Storbeck's Diesel Service Inc  06457-3834    Middletown  \n",
       "1                     C & M Motors Inc  60504-7114        Aurora  \n",
       "2                          Capitol KIA  38701-8047    Greenville  \n",
       "3               Chrysler of Tri-Cities  99301-3882         Pasco  \n",
       "4                    Chrysler Plymouth  53546-9427    Janesville  "
      ]
     },
     "execution_count": 106,
     "metadata": {},
     "output_type": "execute_result"
    }
   ],
   "source": [
    "#Merge 2 dataset\n",
    "df_merge = pd.merge(df1_copy, df2_copy, on=\"id\", how=\"inner\")\n",
    "df_merge.head(5)"
   ]
  },
  {
   "cell_type": "markdown",
   "id": "e8974b35",
   "metadata": {
    "id": "e8974b35"
   },
   "source": [
    "## 4. Update your data store\n",
    "Update the database/data store with the cleaned data"
   ]
  },
  {
   "cell_type": "code",
   "execution_count": 20,
   "id": "207bcb7e",
   "metadata": {
    "id": "207bcb7e"
   },
   "outputs": [],
   "source": [
    "#FILL IN - saving data\n",
    "#df1 = df1_copy\n",
    "#df2 = df2_copy"
   ]
  },
  {
   "cell_type": "markdown",
   "id": "e4a54e73",
   "metadata": {
    "id": "e4a54e73"
   },
   "source": [
    "## 5. Answer the research question\n",
    "\n",
    "### **5.1:** Define and answer the research question"
   ]
  },
  {
   "cell_type": "markdown",
   "id": "fde6331d",
   "metadata": {
    "id": "fde6331d"
   },
   "source": [
    "* Question 1: Dealer sells the most cars?"
   ]
  },
  {
   "cell_type": "code",
   "execution_count": 43,
   "id": "b21ca71e",
   "metadata": {
    "id": "b21ca71e",
    "outputId": "0fa25ce2-79ef-4fbb-e0c2-f78d26a5f0a3"
   },
   "outputs": [
    {
     "name": "stdout",
     "output_type": "stream",
     "text": [
      "Index(['Dealer_Name', 'Dealer_No ', 'Dealer_Region'], dtype='object')\n"
     ]
    }
   ],
   "source": [
    "print(df2.columns)"
   ]
  },
  {
   "cell_type": "code",
   "execution_count": 62,
   "id": "0e2a9cd6",
   "metadata": {},
   "outputs": [
    {
     "data": {
      "text/plain": [
       "Dealer_Name\n",
       "Rabun Used Car Sales                               274\n",
       "Ryder Truck Rental and Leasing                     271\n",
       "Progressive Shippers Cooperative Association No    267\n",
       "Tri-State Mack Inc                                 266\n",
       "Star Enterprises Inc                               264\n",
       "Race Car Help                                      262\n",
       "Saab-Belle Dodge                                   261\n",
       "U-Haul CO                                          260\n",
       "Scrivener Performance Engineering                  254\n",
       "Suburban Ford                                      253\n",
       "Motor Vehicle Branch Office                        136\n",
       "McKinney Dodge Chrysler Jeep                       136\n",
       "Clay Johnson Auto Sales                            136\n",
       "Nebo Chevrolet                                     135\n",
       "Diehl Motor CO Inc                                 135\n",
       "Buddy Storbeck's Diesel Service Inc                134\n",
       "Chrysler Plymouth                                  133\n",
       "Capitol KIA                                        133\n",
       "Pars Auto Sales                                    133\n",
       "Enterprise Rent A Car                              132\n",
       "Classic Chevy                                      130\n",
       "Gartner Buick Hyundai Saab                         130\n",
       "Iceberg Rentals                                    129\n",
       "Chrysler of Tri-Cities                             129\n",
       "New Castle Ford Lincoln Mercury                    129\n",
       "Hatfield Volkswagen                                127\n",
       "Pitre Buick-Pontiac-Gmc of Scottsdale              127\n",
       "C & M Motors Inc                                   126\n",
       "Name: count, dtype: int64"
      ]
     },
     "execution_count": 62,
     "metadata": {},
     "output_type": "execute_result"
    }
   ],
   "source": [
    "# Tính số lượng xe bán bởi mỗi đại lý\n",
    "dealer_sales = df2['Dealer_Name'].value_counts()\n",
    "\n",
    "dealer_sales"
   ]
  },
  {
   "cell_type": "code",
   "execution_count": 66,
   "id": "a2a2f61b",
   "metadata": {},
   "outputs": [
    {
     "name": "stdout",
     "output_type": "stream",
     "text": [
      "Đại lý bán được nhiều xe nhất là 'Rabun Used Car Sales' với số lượng xe bán là 274.\n"
     ]
    }
   ],
   "source": [
    "# Tìm dealer bán được nhiều xe nhất\n",
    "top_dealer = dealer_sales.idxmax()\n",
    "top_sales = dealer_sales.max()\n",
    "\n",
    "# In ra thông tin\n",
    "print(f\"Đại lý bán được nhiều xe nhất là '{top_dealer}' với số lượng xe bán là {top_sales}.\")\n"
   ]
  },
  {
   "cell_type": "code",
   "execution_count": 57,
   "id": "689bc1a5",
   "metadata": {},
   "outputs": [
    {
     "data": {
      "image/png": "[encoded data removed]",
      "text/plain": [
       "<Figure size 1000x800 with 1 Axes>"
      ]
     },
     "metadata": {},
     "output_type": "display_data"
    }
   ],
   "source": [
    "# Vẽ biểu đồ \n",
    "plt.figure(figsize=(10, 8))\n",
    "dealer_sales.plot(kind='barh', color='skyblue')\n",
    "plt.xlabel('Số lượng xe bán')\n",
    "plt.ylabel('Tên đại lý')\n",
    "plt.title('Số lượng xe bán bởi mỗi đại lý')\n",
    "plt.gca().invert_yaxis()  # Đảo ngược trục y để đại lý có số lượng bán lớn nhất ở trên cùng\n",
    "plt.show()"
   ]
  },
  {
   "cell_type": "markdown",
   "id": "724b80a7",
   "metadata": {
    "id": "724b80a7"
   },
   "source": [
    "Dựa vào bảng xếp hạng trên ta có thể thấy Dealer bán được nhiều xe nhất là Rabun Used Car Sales với 274 xe."
   ]
  },
  {
   "cell_type": "markdown",
   "id": "4707382e",
   "metadata": {
    "id": "4707382e"
   },
   "source": [
    "* Question 2: The car color is most popular with men."
   ]
  },
  {
   "cell_type": "code",
   "execution_count": 71,
   "id": "a4506c63",
   "metadata": {
    "id": "a4506c63",
    "outputId": "3f85fdb6-ea94-4ccb-c77a-e44f93407a5e"
   },
   "outputs": [
    {
     "data": {
      "text/plain": [
       "Color\n",
       "Pale White    1560\n",
       "Black         1215\n",
       "Red           1047\n",
       "Name: count, dtype: int64"
      ]
     },
     "execution_count": 71,
     "metadata": {},
     "output_type": "execute_result"
    }
   ],
   "source": [
    "# Bước 1: Lọc dữ liệu chỉ bao gồm các khách hàng nam giới\n",
    "male_customers = df1[df1['Gender'] == 'Male']\n",
    "\n",
    "# Bước 2: Đếm số lượng xe của từng màu được nam giới mua\n",
    "color_preference = male_customers['Color'].value_counts()\n",
    "\n",
    "color_preference"
   ]
  },
  {
   "cell_type": "code",
   "execution_count": 72,
   "id": "fc3436c0",
   "metadata": {},
   "outputs": [
    {
     "name": "stdout",
     "output_type": "stream",
     "text": [
      "Màu xe được mua nhiều nhất bởi nam giới là 'Pale White' với số lượng là 1560.\n"
     ]
    }
   ],
   "source": [
    "# Bước 3: Xác định màu xe được mua nhiều nhất bởi nam giới\n",
    "top_color = color_preference.idxmax()\n",
    "top_color_count = color_preference.max()\n",
    "\n",
    "print(f\"Màu xe được mua nhiều nhất bởi nam giới là '{top_color}' với số lượng là {top_color_count}.\")\n"
   ]
  },
  {
   "cell_type": "code",
   "execution_count": 73,
   "id": "7b4e6fd6",
   "metadata": {},
   "outputs": [
    {
     "data": {
      "image/png": "[encoded data removed]",
      "text/plain": [
       "<Figure size 800x800 with 1 Axes>"
      ]
     },
     "metadata": {},
     "output_type": "display_data"
    }
   ],
   "source": [
    "# Dữ liệu số lượng xe mỗi màu sắc được mua bởi nam giới\n",
    "colors = color_preference.index\n",
    "counts = color_preference.values\n",
    "\n",
    "# Vẽ biểu đồ tròn\n",
    "plt.figure(figsize=(8, 8))\n",
    "plt.pie(counts, labels=colors, autopct='%1.1f%%', startangle=140)\n",
    "plt.title('Phân phối màu sắc xe được mua bởi nam giới')\n",
    "plt.axis('equal')\n",
    "plt.show()"
   ]
  },
  {
   "cell_type": "markdown",
   "id": "8a62f415",
   "metadata": {
    "id": "8a62f415"
   },
   "source": [
    "Ta có thể thấy được màu được nam giới ưa chuộng nhất hiện tại là màu Pale White, sau đó là màu Black và Red."
   ]
  },
  {
   "cell_type": "markdown",
   "id": "d137d1b4",
   "metadata": {
    "id": "d137d1b4"
   },
   "source": [
    "* Question 3: Company has the highest number of cars sold."
   ]
  },
  {
   "cell_type": "code",
   "execution_count": 74,
   "id": "2c7d9561",
   "metadata": {
    "id": "2c7d9561",
    "outputId": "db270d5d-0566-4ae0-fbad-c44a09188612"
   },
   "outputs": [
    {
     "data": {
      "text/plain": [
       "Company\n",
       "Chevrolet     362\n",
       "Ford          337\n",
       "Dodge         303\n",
       "Mercedes-B    300\n",
       "Mitsubishi    294\n",
       "Volkswagen    266\n",
       "Chrysler      241\n",
       "Oldsmobile    238\n",
       "Toyota        227\n",
       "Mercury       202\n",
       "Pontiac       188\n",
       "BMW           173\n",
       "Volvo         163\n",
       "Honda         162\n",
       "Lexus         159\n",
       "Plymouth      155\n",
       "Acura         153\n",
       "Nissan        151\n",
       "Saturn        130\n",
       "Cadillac      124\n",
       "Lincoln       108\n",
       "Audi           93\n",
       "Porsche        86\n",
       "Buick          81\n",
       "Subaru         76\n",
       "Jeep           65\n",
       "Hyundai        58\n",
       "Saab           41\n",
       "Jaguar         35\n",
       "Infiniti       31\n",
       "Name: count, dtype: int64"
      ]
     },
     "execution_count": 74,
     "metadata": {},
     "output_type": "execute_result"
    }
   ],
   "source": [
    "# Bước 1: Đếm số lượng xe bán bởi mỗi công ty\n",
    "company_sales = df1['Company'].value_counts()\n",
    "company_sales"
   ]
  },
  {
   "cell_type": "code",
   "execution_count": 75,
   "id": "721618d8",
   "metadata": {},
   "outputs": [
    {
     "name": "stdout",
     "output_type": "stream",
     "text": [
      "Công ty bán được nhiều xe nhất là 'Chevrolet' với số lượng là 362.\n"
     ]
    }
   ],
   "source": [
    "# Bước 2: Tìm công ty bán được nhiều xe nhất\n",
    "top_company = company_sales.idxmax()\n",
    "top_company_sales = company_sales.max()\n",
    "\n",
    "print(f\"Công ty bán được nhiều xe nhất là '{top_company}' với số lượng là {top_company_sales}.\")\n"
   ]
  },
  {
   "cell_type": "code",
   "execution_count": 76,
   "id": "39dea89a",
   "metadata": {},
   "outputs": [
    {
     "data": {
      "image/png": "[encoded data removed]",
      "text/plain": [
       "<Figure size 1000x800 with 1 Axes>"
      ]
     },
     "metadata": {},
     "output_type": "display_data"
    }
   ],
   "source": [
    "# Vẽ biểu đồ \n",
    "plt.figure(figsize=(10, 8))\n",
    "company_sales.plot(kind='barh', color='skyblue')\n",
    "plt.xlabel('Số lượng xe bán')\n",
    "plt.ylabel('Tên đại lý')\n",
    "plt.title('Số lượng xe bán bởi mỗi đại lý')\n",
    "plt.gca().invert_yaxis()  # Đảo ngược trục y để đại lý có số lượng bán lớn nhất ở trên cùng\n",
    "plt.show()"
   ]
  },
  {
   "cell_type": "markdown",
   "id": "d8b7beaa",
   "metadata": {
    "id": "d8b7beaa"
   },
   "source": [
    "Dựa vào bảng thống kê ta có thể thấy Company bán được nhiều xe nhất là: Chevrolet với 362 xe."
   ]
  },
  {
   "cell_type": "markdown",
   "id": "1118b239",
   "metadata": {
    "id": "1118b239"
   },
   "source": [
    "* Question 4: Between auto and manual cars, which car is more popular?"
   ]
  },
  {
   "cell_type": "code",
   "execution_count": 77,
   "id": "e8839b62",
   "metadata": {
    "id": "e8839b62",
    "outputId": "4a092264-b3db-498f-df90-f2b159eb447e"
   },
   "outputs": [
    {
     "data": {
      "text/plain": [
       "Transmission\n",
       "Auto      2647\n",
       "Manual    2355\n",
       "Name: count, dtype: int64"
      ]
     },
     "execution_count": 77,
     "metadata": {},
     "output_type": "execute_result"
    }
   ],
   "source": [
    "# Bước 1: Đếm số lượng xe auto và manual\n",
    "transmission_counts = df1['Transmission'].value_counts()\n",
    "\n",
    "transmission_counts"
   ]
  },
  {
   "cell_type": "code",
   "execution_count": 78,
   "id": "f61ed883",
   "metadata": {},
   "outputs": [
    {
     "name": "stdout",
     "output_type": "stream",
     "text": [
      "Loại xe được ưa chuộng là 'Auto' với số lượng là 2647.\n"
     ]
    }
   ],
   "source": [
    "# Bước 2: Xác định loại xe được ưa chuộng hơn\n",
    "most_popular_transmission = transmission_counts.idxmax()\n",
    "most_popular_transmission_count = transmission_counts.max()\n",
    "\n",
    "print(f\"Loại xe được ưa chuộng là '{most_popular_transmission}' với số lượng là {most_popular_transmission_count}.\")\n"
   ]
  },
  {
   "cell_type": "code",
   "execution_count": 79,
   "id": "0358cb4c",
   "metadata": {},
   "outputs": [
    {
     "data": {
      "image/png": "[encoded data removed]",
      "text/plain": [
       "<Figure size 800x800 with 1 Axes>"
      ]
     },
     "metadata": {},
     "output_type": "display_data"
    }
   ],
   "source": [
    "# Dữ liệu số lượng xe mỗi màu sắc được mua bởi nam giới\n",
    "transmission = transmission_counts.index\n",
    "counts = transmission_counts.values\n",
    "\n",
    "# Vẽ biểu đồ tròn\n",
    "plt.figure(figsize=(8, 8))\n",
    "plt.pie(counts, labels=transmission, autopct='%1.1f%%', startangle=140)\n",
    "plt.title('Phân phối màu sắc xe được mua bởi nam giới')\n",
    "plt.axis('equal')\n",
    "plt.show()"
   ]
  },
  {
   "cell_type": "markdown",
   "id": "3efc2eb4",
   "metadata": {
    "id": "3efc2eb4"
   },
   "source": [
    "Dựa vào bảng thống kê trên ta có thể thấy xu hướng hiện tại mà khách hàng ưu tiên khi mua xe là loại xe auto."
   ]
  },
  {
   "cell_type": "markdown",
   "id": "648efc04",
   "metadata": {
    "id": "648efc04"
   },
   "source": [
    "* Question 5: Average income of male and female customers."
   ]
  },
  {
   "cell_type": "code",
   "execution_count": 25,
   "id": "96585d38",
   "metadata": {
    "id": "96585d38",
    "outputId": "fa1b7437-51e3-4d2e-defb-d168ca473033"
   },
   "outputs": [
    {
     "name": "stdout",
     "output_type": "stream",
     "text": [
      "Thu nhập trung bình của nam giới là: 884578.63\n",
      "Thu nhập trung bình của nữ giới là: 823431.53\n"
     ]
    },
    {
     "data": {
      "image/png": "[encoded data removed]",
      "text/plain": [
       "<Figure size 300x400 with 1 Axes>"
      ]
     },
     "metadata": {},
     "output_type": "display_data"
    }
   ],
   "source": [
    "# Bước 1: Lọc dữ liệu theo giới tính\n",
    "male_income = df1[df1['Gender'] == 'Male']['Annual Income']\n",
    "female_income = df1[df1['Gender'] == 'Female']['Annual Income']\n",
    "\n",
    "# Bước 2: Tính toán thu nhập trung bình của nam giới\n",
    "male_mean_income = male_income.mean()\n",
    "\n",
    "# Bước 3: Tính toán thu nhập trung bình của nữ giới\n",
    "female_mean_income = female_income.mean()\n",
    "\n",
    "# Bước 4: Hiển thị kết quả\n",
    "print(f'Thu nhập trung bình của nam giới là: {male_mean_income:.2f}')\n",
    "print(f'Thu nhập trung bình của nữ giới là: {female_mean_income:.2f}')\n",
    "\n",
    "# Bước 5: Vẽ biểu đồ cột so sánh thu nhập trung bình giữa nam và nữ\n",
    "import matplotlib.pyplot as plt\n",
    "\n",
    "# Tạo dữ liệu cho biểu đồ\n",
    "categories = ['Nam', 'Nữ']\n",
    "values = [male_mean_income, female_mean_income]\n",
    "\n",
    "plt.figure(figsize=(3, 4))\n",
    "plt.bar(categories, values, color=['red', 'pink'])\n",
    "plt.xlabel('Giới tính')\n",
    "plt.ylabel('Thu nhập trung bình ($)')\n",
    "plt.title('So sánh thu nhập trung bình giữa nam và nữ')\n",
    "plt.show()"
   ]
  },
  {
   "cell_type": "markdown",
   "id": "4c11d9db",
   "metadata": {
    "id": "4c11d9db"
   },
   "source": [
    "* Question 6: Which car has the highest value sold?"
   ]
  },
  {
   "cell_type": "code",
   "execution_count": 80,
   "id": "fc86b253",
   "metadata": {
    "id": "fc86b253",
    "outputId": "b9853028-1d59-4b68-e2de-80f3ca14a5dc",
    "scrolled": false
   },
   "outputs": [
    {
     "name": "stdout",
     "output_type": "stream",
     "text": [
      "Xe có giá trị cao nhất:\n",
      "           Car_id      Date Customer Name Gender  Annual Income Company Model  \\\n",
      "358  C_CND_000359  2/6/2022       Matthew   Male        1326000  Toyota  RAV4   \n",
      "\n",
      "                Engine Transmission  Color  Price ($) Body Style    Phone  \n",
      "358  Overhead Camshaft       Manual  Black    85600.0  Hatchback  8706152  \n",
      "\n",
      "Xe có giá trị thấp nhất:\n",
      "            Car_id       Date Customer Name  Gender  Annual Income  \\\n",
      "12    C_CND_000013   1/2/2022       Griffin    Male         885000   \n",
      "260   C_CND_000261  1/27/2022         Julia  Female         700000   \n",
      "290   C_CND_000291  1/30/2022          Luca    Male          13500   \n",
      "413   C_CND_000414   2/8/2022        Clemet    Male         550000   \n",
      "542   C_CND_000543  2/18/2022       Makayla    Male         790000   \n",
      "742   C_CND_000743   3/5/2022       Justine    Male         615000   \n",
      "751   C_CND_000752   3/5/2022          Luke    Male         572000   \n",
      "797   C_CND_000798   3/8/2022         Sadie    Male        2000000   \n",
      "940   C_CND_000941  3/16/2022        Taylor    Male          13500   \n",
      "1012  C_CND_001013  3/19/2022     Alejandra  Female         555000   \n",
      "1031  C_CND_001032  3/19/2022       Esteban    Male          13500   \n",
      "1106  C_CND_001107  3/21/2022      Anabella    Male          13500   \n",
      "1128  C_CND_001129  3/22/2022         Aiden    Male        1000000   \n",
      "1295  C_CND_001296  3/29/2022          Elea    Male          13500   \n",
      "1390  C_CND_001391   4/4/2022       Celeste    Male        1470000   \n",
      "1650  C_CND_001651  4/13/2022        Julien    Male         739000   \n",
      "1709  C_CND_001710  4/16/2022        Nathan    Male          13500   \n",
      "1908  C_CND_001909  4/20/2022          Leah    Male         670000   \n",
      "2044  C_CND_002045  4/27/2022          Lola    Male          13500   \n",
      "2083  C_CND_002084  4/28/2022        Stessa    Male          13500   \n",
      "2086  C_CND_002087  4/28/2022         Andre  Female        1480000   \n",
      "2196  C_CND_002197   5/3/2022       Natalie    Male         315000   \n",
      "2282  C_CND_002283   5/7/2022       Gabriel    Male          13500   \n",
      "2533  C_CND_002534  5/18/2022          Jade    Male         937000   \n",
      "2813  C_CND_002814  5/31/2022         Ayden  Female         296000   \n",
      "3228  C_CND_003229  6/15/2022       Timothe    Male         625000   \n",
      "3289  C_CND_003290  6/18/2022         Edgar  Female          13500   \n",
      "3434  C_CND_003435  6/23/2022         Salha    Male        1560000   \n",
      "3588  C_CND_003589   7/2/2022       Brandon  Female         675000   \n",
      "3978  C_CND_003979  7/14/2022         Alexa    Male          13500   \n",
      "4110  C_CND_004111  7/20/2022     Angelique    Male          13500   \n",
      "4215  C_CND_004216  7/26/2022       Gabriel    Male         525000   \n",
      "4368  C_CND_004369   8/6/2022       Delilah  Female        1800000   \n",
      "4916  C_CND_004917  8/24/2022      Juliette    Male         850000   \n",
      "4934  C_CND_004935  8/24/2022        Bonnie    Male          13500   \n",
      "\n",
      "         Company          Model                     Engine Transmission  \\\n",
      "12       Mercury  Grand Marquis  DoubleÂ Overhead Camshaft         Auto   \n",
      "260      Mercury  Grand Marquis  DoubleÂ Overhead Camshaft         Auto   \n",
      "290   Volkswagen         Passat  DoubleÂ Overhead Camshaft         Auto   \n",
      "413       Nissan         Xterra  DoubleÂ Overhead Camshaft         Auto   \n",
      "542   Volkswagen         Passat  DoubleÂ Overhead Camshaft         Auto   \n",
      "742      Mercury  Grand Marquis  DoubleÂ Overhead Camshaft         Auto   \n",
      "751          BMW           323i  DoubleÂ Overhead Camshaft         Auto   \n",
      "797   Volkswagen         Passat  DoubleÂ Overhead Camshaft         Auto   \n",
      "940   Mitsubishi         Mirage  DoubleÂ Overhead Camshaft         Auto   \n",
      "1012  Volkswagen         Passat  DoubleÂ Overhead Camshaft         Auto   \n",
      "1031  Volkswagen         Passat  DoubleÂ Overhead Camshaft         Auto   \n",
      "1106  Volkswagen         Passat  DoubleÂ Overhead Camshaft         Auto   \n",
      "1128    Plymouth           Neon  DoubleÂ Overhead Camshaft         Auto   \n",
      "1295  Volkswagen         Passat  DoubleÂ Overhead Camshaft         Auto   \n",
      "1390         BMW           323i  DoubleÂ Overhead Camshaft         Auto   \n",
      "1650     Mercury  Grand Marquis  DoubleÂ Overhead Camshaft         Auto   \n",
      "1709         BMW           323i  DoubleÂ Overhead Camshaft         Auto   \n",
      "1908     Mercury       Mystique  DoubleÂ Overhead Camshaft         Auto   \n",
      "2044  Mitsubishi         Mirage  DoubleÂ Overhead Camshaft         Auto   \n",
      "2083         BMW           323i  DoubleÂ Overhead Camshaft         Auto   \n",
      "2086     Mercury       Mystique  DoubleÂ Overhead Camshaft         Auto   \n",
      "2196    Plymouth           Neon  DoubleÂ Overhead Camshaft         Auto   \n",
      "2282    Plymouth           Neon  DoubleÂ Overhead Camshaft         Auto   \n",
      "2533  Mitsubishi         Mirage  DoubleÂ Overhead Camshaft         Auto   \n",
      "2813         BMW           323i  DoubleÂ Overhead Camshaft         Auto   \n",
      "3228    Plymouth           Neon  DoubleÂ Overhead Camshaft         Auto   \n",
      "3289     Mercury       Mystique  DoubleÂ Overhead Camshaft         Auto   \n",
      "3434     Mercury  Grand Marquis  DoubleÂ Overhead Camshaft         Auto   \n",
      "3588     Mercury  Grand Marquis  DoubleÂ Overhead Camshaft         Auto   \n",
      "3978  Volkswagen         Passat  DoubleÂ Overhead Camshaft         Auto   \n",
      "4110  Volkswagen         Passat  DoubleÂ Overhead Camshaft         Auto   \n",
      "4215     Mercury       Mystique  DoubleÂ Overhead Camshaft         Auto   \n",
      "4368         BMW           323i  DoubleÂ Overhead Camshaft         Auto   \n",
      "4916  Volkswagen         Passat  DoubleÂ Overhead Camshaft         Auto   \n",
      "4934     Mercury       Mystique  DoubleÂ Overhead Camshaft         Auto   \n",
      "\n",
      "      Color  Price ($) Body Style    Phone  \n",
      "12    Black     9000.0        SUV  6842408  \n",
      "260   Black     9000.0        SUV  8364023  \n",
      "290   Black     9000.0  Hatchback  6535530  \n",
      "413   Black     9000.0  Passenger  6726247  \n",
      "542   Black     9000.0  Hatchback  8635781  \n",
      "742   Black     9000.0        SUV  8578439  \n",
      "751   Black     9000.0  Hatchback  8364695  \n",
      "797   Black     9000.0  Hatchback  7807481  \n",
      "940   Black     9000.0        SUV  7805748  \n",
      "1012  Black     9000.0  Hatchback  7290737  \n",
      "1031  Black     9000.0  Hatchback  7551049  \n",
      "1106  Black     9000.0  Hatchback  8573767  \n",
      "1128  Black     9000.0        SUV  8745229  \n",
      "1295  Black     9000.0  Hatchback  7023751  \n",
      "1390  Black     9000.0  Hatchback  6816584  \n",
      "1650  Black     9000.0        SUV  8433052  \n",
      "1709  Black     9000.0  Hatchback  6439131  \n",
      "1908  Black     9000.0  Passenger  6793184  \n",
      "2044  Black     9000.0        SUV  6494939  \n",
      "2083  Black     9000.0  Hatchback  6399881  \n",
      "2086  Black     9000.0  Passenger  7806999  \n",
      "2196  Black     9000.0        SUV  8155767  \n",
      "2282  Black     9000.0        SUV  8042015  \n",
      "2533  Black     9000.0        SUV  6193629  \n",
      "2813  Black     9000.0  Hatchback  7374417  \n",
      "3228  Black     9000.0        SUV  6817357  \n",
      "3289  Black     9000.0  Passenger  7147193  \n",
      "3434  Black     9000.0        SUV  6348706  \n",
      "3588  Black     9000.0        SUV  6390730  \n",
      "3978  Black     9000.0  Hatchback  8568403  \n",
      "4110  Black     9000.0  Hatchback  6867584  \n",
      "4215  Black     9000.0  Passenger  8583756  \n",
      "4368  Black     9000.0  Hatchback  7893395  \n",
      "4916  Black     9000.0  Hatchback  7221578  \n",
      "4934  Black     9000.0  Passenger  8220358  \n"
     ]
    }
   ],
   "source": [
    "# Bước 1: Tìm xe có giá trị cao nhất\n",
    "max_price = df1['Price ($)'].max()\n",
    "max_price_car = df1[df1['Price ($)'] == max_price]\n",
    "\n",
    "# Bước 2: Tìm xe có giá trị thấp nhất\n",
    "min_price = df1['Price ($)'].min()\n",
    "min_price_car = df1[df1['Price ($)'] == min_price]\n",
    "\n",
    "# Bước 3: Hiển thị thông tin về các xe này\n",
    "print(\"Xe có giá trị cao nhất:\")\n",
    "print(max_price_car)\n",
    "\n",
    "print(\"\\nXe có giá trị thấp nhất:\")\n",
    "print(min_price_car)\n"
   ]
  },
  {
   "cell_type": "markdown",
   "id": "81ee694a",
   "metadata": {
    "id": "81ee694a"
   },
   "source": [
    "Ta có thể thấy xe có giá trị cao nhất đã được bán ra là Toyota RAV4 có giá 85600$, giá xe"
   ]
  },
  {
   "cell_type": "code",
   "execution_count": null,
   "id": "f3c58790",
   "metadata": {},
   "outputs": [],
   "source": []
  },
  {
   "cell_type": "code",
   "execution_count": null,
   "id": "ea39a68e",
   "metadata": {},
   "outputs": [],
   "source": []
  }
 ],
 "metadata": {
  "colab": {
   "provenance": []
  },
  "kernelspec": {
   "display_name": "Python 3 (ipykernel)",
   "language": "python",
   "name": "python3"
  },
  "language_info": {
   "codemirror_mode": {
    "name": "ipython",
    "version": 3
   },
   "file_extension": ".py",
   "mimetype": "text/x-python",
   "name": "python",
   "nbconvert_exporter": "python",
   "pygments_lexer": "ipython3",
   "version": "3.11.5"
  }
 },
 "nbformat": 4,
 "nbformat_minor": 5
}
